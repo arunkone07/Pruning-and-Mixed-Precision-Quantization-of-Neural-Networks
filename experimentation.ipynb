{
 "cells": [
  {
   "cell_type": "code",
   "execution_count": 1,
   "metadata": {},
   "outputs": [],
   "source": [
    "%load_ext autoreload\n",
    "%autoreload 2\n",
    "\n",
    "import math\n",
    "import copy\n",
    "import matplotlib.pyplot as plt\n",
    "import numpy as np\n",
    "import torchvision\n",
    "from torchvision.datasets import *\n",
    "from torchvision.transforms import *\n",
    "from torch.utils.data import DataLoader\n",
    "from utils import *\n",
    "from model import *\n",
    "from evaluation import *\n",
    "from train import *\n",
    "from pruning import *\n",
    "DEVICE = 'cuda' if torch.cuda.is_available() else 'cpu'"
   ]
  },
  {
   "cell_type": "markdown",
   "metadata": {},
   "source": [
    "### Dataset Preparation"
   ]
  },
  {
   "cell_type": "code",
   "execution_count": 2,
   "metadata": {},
   "outputs": [
    {
     "name": "stdout",
     "output_type": "stream",
     "text": [
      "Files already downloaded and verified\n",
      "Files already downloaded and verified\n"
     ]
    }
   ],
   "source": [
    "image_size = 32\n",
    "transforms = {\n",
    "    \"train\": Compose([\n",
    "        RandomCrop(image_size, padding=4),\n",
    "        RandomHorizontalFlip(),\n",
    "        ToTensor(),\n",
    "    ]),\n",
    "    \"test\": ToTensor(),\n",
    "}\n",
    "dataset = {}\n",
    "for split in [\"train\", \"test\"]:\n",
    "  dataset[split] = CIFAR10(\n",
    "    root=\"/home/arun/Desktop/MTP-Quantization-HAWQ/data/cifar10\",\n",
    "    train=(split == \"train\"),\n",
    "    download=True,\n",
    "    transform=transforms[split],\n",
    "  )\n",
    "dataloader = {}\n",
    "for split in ['train', 'test']:\n",
    "  dataloader[split] = DataLoader(\n",
    "    dataset[split],\n",
    "    batch_size=512,\n",
    "    shuffle=(split == 'train'),\n",
    "    num_workers=0,\n",
    "    pin_memory=True,\n",
    "  )"
   ]
  },
  {
   "cell_type": "code",
   "execution_count": 3,
   "metadata": {},
   "outputs": [],
   "source": [
    "data_root = '/srv/datasets/'\n",
    "traindir = os.path.join(data_root, 'train')\n",
    "valdir = os.path.join(data_root, 'val')\n",
    "\n",
    "# preprocessing\n",
    "input_size = 224\n",
    "imagenet_tran_train = [\n",
    "    RandomResizedCrop(input_size, scale=(0.2, 1.0)),\n",
    "    RandomHorizontalFlip(),\n",
    "    ToTensor(),\n",
    "    Normalize(mean=[0.485, 0.456, 0.406], std=[0.229, 0.224, 0.225]),\n",
    "]\n",
    "imagenet_tran_test = [\n",
    "    Resize(int(input_size / 0.875)),\n",
    "    CenterCrop(input_size),\n",
    "    ToTensor(),\n",
    "    Normalize(mean=[0.485, 0.456, 0.406], std=[0.229, 0.224, 0.225]),\n",
    "]\n",
    "\n",
    "train_loader = torch.utils.data.DataLoader(\n",
    "    ImageFolder(traindir, Compose(imagenet_tran_train)),\n",
    "    batch_size=256, shuffle=True,\n",
    "    num_workers=1, pin_memory=True, sampler=None)\n",
    "\n",
    "val_loader = torch.utils.data.DataLoader(\n",
    "    ImageFolder(valdir, Compose(imagenet_tran_test)),\n",
    "    batch_size=256, shuffle=False,\n",
    "    num_workers=1, pin_memory=True)\n",
    "n_class = 1000\n",
    "\n",
    "# dataset = {}\n",
    "# for split in [\"train\", \"test\"]:\n",
    "#   dataset[split] = CIFAR10(\n",
    "#     root=\"/home/arun/Desktop/MTP-Quantization-HAWQ/data/cifar10\",\n",
    "#     train=(split == \"train\"),\n",
    "#     download=True,\n",
    "#     transform=transforms[split],\n",
    "#   )\n",
    "dataloader = {\n",
    "    'train': train_loader,\n",
    "    'test': val_loader\n",
    "}"
   ]
  },
  {
   "cell_type": "markdown",
   "metadata": {},
   "source": [
    "### Prepare the model"
   ]
  },
  {
   "cell_type": "code",
   "execution_count": 4,
   "metadata": {},
   "outputs": [
    {
     "name": "stderr",
     "output_type": "stream",
     "text": [
      "/usr/lib/python3.10/torchvision/models/_utils.py:135: UserWarning: Using 'weights' as positional parameter(s) is deprecated since 0.13 and may be removed in the future. Please use keyword parameter(s) instead.\n",
      "  warnings.warn(\n",
      "/usr/lib/python3.10/torchvision/models/_utils.py:223: UserWarning: Arguments other than a weight enum or `None` for 'weights' are deprecated since 0.13 and may be removed in the future. The current behavior is equivalent to passing `weights=VGG16_BN_Weights.IMAGENET1K_V1`. You can also use `weights=VGG16_BN_Weights.DEFAULT` to get the most up-to-date weights.\n",
      "  warnings.warn(msg)\n"
     ]
    }
   ],
   "source": [
    "\n",
    "from torchvision.models import mobilenet_v3_large, MobileNet_V3_Large_Weights, vgg16_bn, VGG16_BN_Weights, resnet18, ResNet18_Weights, resnet50, ResNet50_Weights\n",
    "# checkpoint_url = \"https://hanlab18.mit.edu/files/course/labs/vgg.cifar.pretrained.pth\"\n",
    "# checkpoint = torch.load(download_url(checkpoint_url, model_dir=\"model_dir\"), map_location=\"cpu\")\n",
    "model = vgg16_bn(VGG16_BN_Weights)\n",
    "# print(f\"=> loading checkpoint '{checkpoint_url}'\")\n",
    "# model.load_state_dict(checkpoint['state_dict'])\n",
    "# recover_model = lambda: model.load_state_dict(checkpoint['state_dict'])"
   ]
  },
  {
   "cell_type": "code",
   "execution_count": 5,
   "metadata": {},
   "outputs": [
    {
     "name": "stderr",
     "output_type": "stream",
     "text": [
      "                                                       \r"
     ]
    }
   ],
   "source": [
    "dense_model_accuracy = evaluate(model, dataloader['test'], device=DEVICE)\n",
    "dense_model_size = get_model_size(model)"
   ]
  },
  {
   "cell_type": "code",
   "execution_count": 6,
   "metadata": {},
   "outputs": [],
   "source": [
    "Byte = 8\n",
    "KiB = 1024 * Byte\n",
    "MiB = 1024 * KiB\n",
    "GiB = 1024 * MiB\n",
    "# print(f\"dense model has accuracy={dense_model_accuracy:.2f}%\")\n",
    "# print(f\"dense model has size={dense_model_size/MiB:.2f} MiB\")"
   ]
  },
  {
   "cell_type": "code",
   "execution_count": null,
   "metadata": {},
   "outputs": [],
   "source": [
    "def plot_weight_distribution(model, bins=256, count_nonzero_only=False):\n",
    "    fig, axes = plt.subplots(3,3, figsize=(10, 6))\n",
    "    axes = axes.ravel()\n",
    "    plot_index = 0\n",
    "    for name, param in model.named_parameters():\n",
    "        if param.dim() > 1:\n",
    "            ax = axes[plot_index]\n",
    "            if count_nonzero_only:\n",
    "                param_cpu = param.detach().view(-1).cpu()\n",
    "                param_cpu = param_cpu[param_cpu != 0].view(-1)\n",
    "                ax.hist(param_cpu, bins=bins, density=True,\n",
    "                        color = 'blue', alpha = 0.5)\n",
    "            else:\n",
    "                ax.hist(param.detach().view(-1).cpu(), bins=bins, density=True,\n",
    "                        color = 'blue', alpha = 0.5)\n",
    "            ax.set_xlabel(name)\n",
    "            ax.set_ylabel('density')\n",
    "            plot_index += 1\n",
    "    fig.suptitle('Histogram of Weights')\n",
    "    fig.tight_layout()\n",
    "    fig.subplots_adjust(top=0.925)\n",
    "    plt.show()\n",
    "\n",
    "plot_weight_distribution(model)"
   ]
  },
  {
   "cell_type": "code",
   "execution_count": 43,
   "metadata": {},
   "outputs": [
    {
     "data": {
      "image/png": "[encoded data removed]",
      "text/plain": [
       "<Figure size 600x1000 with 2 Axes>"
      ]
     },
     "metadata": {},
     "output_type": "display_data"
    },
    {
     "name": "stdout",
     "output_type": "stream",
     "text": [
      "* Test fine_grained_prune()\n",
      "    target sparsity: 0.75\n",
      "        sparsity before pruning: 0.04\n",
      "        sparsity after pruning: 0.76\n",
      "        sparsity of pruning mask: 0.76\n",
      "* Test passed.\n"
     ]
    }
   ],
   "source": [
    "def test_fine_grained_prune(\n",
    "    test_tensor=torch.tensor([[-0.46, -0.40, 0.39, 0.19, 0.37],\n",
    "                              [0.00, 0.40, 0.17, -0.15, 0.16],\n",
    "                              [-0.20, -0.23, 0.36, 0.25, 0.03],\n",
    "                              [0.24, 0.41, 0.07, 0.13, -0.15],\n",
    "                              [0.48, -0.09, -0.36, 0.12, 0.45]]),\n",
    "    test_mask=torch.tensor([[True, True, False, False, False],\n",
    "                            [False, True, False, False, False],\n",
    "                            [False, False, False, False, False],\n",
    "                            [False, True, False, False, False],\n",
    "                            [True, False, False, False, True]]),\n",
    "    target_sparsity=0.75, target_nonzeros=None):\n",
    "    def plot_matrix(tensor, ax, title):\n",
    "        ax.imshow(tensor.cpu().numpy() == 0, vmin=0, vmax=1, cmap='tab20c')\n",
    "        ax.set_title(title)\n",
    "        ax.set_yticklabels([])\n",
    "        ax.set_xticklabels([])\n",
    "        for i in range(tensor.shape[1]):\n",
    "            for j in range(tensor.shape[0]):\n",
    "                text = ax.text(j, i, f'{tensor[i, j].item():.2f}',\n",
    "                                ha=\"center\", va=\"center\", color=\"k\")\n",
    "\n",
    "    test_tensor = test_tensor.clone()\n",
    "    fig, axes = plt.subplots(1,2, figsize=(6, 10))\n",
    "    ax_left, ax_right = axes.ravel()\n",
    "    plot_matrix(test_tensor, ax_left, 'dense tensor')\n",
    "\n",
    "    sparsity_before_pruning = get_sparsity(test_tensor)\n",
    "    mask = fine_grained_prune(test_tensor, target_sparsity)\n",
    "    sparsity_after_pruning = get_sparsity(test_tensor)\n",
    "    sparsity_of_mask = get_sparsity(mask)\n",
    "\n",
    "    plot_matrix(test_tensor, ax_right, 'sparse tensor')\n",
    "    fig.tight_layout()\n",
    "    plt.show()\n",
    "\n",
    "    print('* Test fine_grained_prune()')\n",
    "    print(f'    target sparsity: {target_sparsity:.2f}')\n",
    "    print(f'        sparsity before pruning: {sparsity_before_pruning:.2f}')\n",
    "    print(f'        sparsity after pruning: {sparsity_after_pruning:.2f}')\n",
    "    print(f'        sparsity of pruning mask: {sparsity_of_mask:.2f}')\n",
    "\n",
    "    if target_nonzeros is None:\n",
    "        if test_mask.equal(mask):\n",
    "            print('* Test passed.')\n",
    "        else:\n",
    "            print('* Test failed.')\n",
    "    else:\n",
    "        if mask.count_nonzero() == target_nonzeros:\n",
    "            print('* Test passed.')\n",
    "        else:\n",
    "            print('* Test failed.')\n",
    "test_fine_grained_prune()"
   ]
  },
  {
   "cell_type": "code",
   "execution_count": 44,
   "metadata": {},
   "outputs": [
    {
     "data": {
      "image/png": "[encoded data removed]",
      "text/plain": [
       "<Figure size 600x1000 with 2 Axes>"
      ]
     },
     "metadata": {},
     "output_type": "display_data"
    },
    {
     "name": "stdout",
     "output_type": "stream",
     "text": [
      "* Test fine_grained_prune()\n",
      "    target sparsity: 0.60\n",
      "        sparsity before pruning: 0.04\n",
      "        sparsity after pruning: 0.60\n",
      "        sparsity of pruning mask: 0.60\n",
      "* Test passed.\n"
     ]
    }
   ],
   "source": [
    "target_sparsity = 0.6\n",
    "test_fine_grained_prune(target_sparsity=target_sparsity, target_nonzeros=10)"
   ]
  },
  {
   "cell_type": "markdown",
   "metadata": {},
   "source": [
    "### Sensivity Scan"
   ]
  },
  {
   "cell_type": "code",
   "execution_count": 45,
   "metadata": {},
   "outputs": [],
   "source": [
    "@torch.no_grad()\n",
    "def sensitivity_scan(model, dataloader, scan_step=0.1, scan_start=0.4, scan_end=1.0, verbose=True):\n",
    "    sparsities = np.arange(start=scan_start, stop=scan_end, step=scan_step)\n",
    "    accuracies = []\n",
    "    named_conv_weights = [(name, param) for (name, param) \\\n",
    "                          in model.named_parameters() if param.dim() > 1]\n",
    "    for i_layer, (name, param) in enumerate(named_conv_weights):\n",
    "        param_clone = param.detach().clone()\n",
    "        accuracy = []\n",
    "        for sparsity in tqdm(sparsities, desc=f'scanning {i_layer}/{len(named_conv_weights)} weight - {name}'):\n",
    "            fine_grained_prune(param.detach(), sparsity=sparsity)\n",
    "            acc = evaluate(model, dataloader, device=DEVICE, verbose=False)\n",
    "            if verbose:\n",
    "                print(f'\\r    sparsity={sparsity:.2f}: accuracy={acc:.2f}%', end='')\n",
    "            # restore\n",
    "            param.copy_(param_clone)\n",
    "            accuracy.append(acc)\n",
    "        if verbose:\n",
    "            print(f'\\r    sparsity=[{\",\".join([\"{:.2f}\".format(x) for x in sparsities])}]: accuracy=[{\", \".join([\"{:.2f}%\".format(x) for x in accuracy])}]', end='')\n",
    "        accuracies.append(accuracy)\n",
    "    return sparsities, accuracies"
   ]
  },
  {
   "cell_type": "code",
   "execution_count": 46,
   "metadata": {},
   "outputs": [
    {
     "name": "stderr",
     "output_type": "stream",
     "text": [
      "scanning 0/16 weight - features.0.weight:  17%|█▋        | 1/6 [02:00<10:03, 120.67s/it]"
     ]
    },
    {
     "name": "stdout",
     "output_type": "stream",
     "text": [
      "    sparsity=0.40: accuracy=73.37%"
     ]
    },
    {
     "name": "stderr",
     "output_type": "stream",
     "text": [
      "scanning 0/16 weight - features.0.weight:  33%|███▎      | 2/6 [04:01<08:01, 120.49s/it]"
     ]
    },
    {
     "name": "stdout",
     "output_type": "stream",
     "text": [
      "    sparsity=0.50: accuracy=73.37%"
     ]
    },
    {
     "name": "stderr",
     "output_type": "stream",
     "text": [
      "scanning 0/16 weight - features.0.weight:  50%|█████     | 3/6 [06:02<06:02, 120.78s/it]"
     ]
    },
    {
     "name": "stdout",
     "output_type": "stream",
     "text": [
      "    sparsity=0.60: accuracy=73.41%"
     ]
    },
    {
     "name": "stderr",
     "output_type": "stream",
     "text": [
      "scanning 0/16 weight - features.0.weight:  67%|██████▋   | 4/6 [08:03<04:01, 120.88s/it]"
     ]
    },
    {
     "name": "stdout",
     "output_type": "stream",
     "text": [
      "    sparsity=0.70: accuracy=73.28%"
     ]
    },
    {
     "name": "stderr",
     "output_type": "stream",
     "text": [
      "scanning 0/16 weight - features.0.weight:  83%|████████▎ | 5/6 [10:05<02:01, 121.22s/it]"
     ]
    },
    {
     "name": "stdout",
     "output_type": "stream",
     "text": [
      "    sparsity=0.80: accuracy=72.58%"
     ]
    },
    {
     "name": "stderr",
     "output_type": "stream",
     "text": [
      "scanning 0/16 weight - features.0.weight: 100%|██████████| 6/6 [12:06<00:00, 121.10s/it]\n"
     ]
    },
    {
     "name": "stdout",
     "output_type": "stream",
     "text": [
      "    sparsity=[0.40,0.50,0.60,0.70,0.80,0.90]: accuracy=[73.37%, 73.37%, 73.41%, 73.28%, 72.58%, 63.75%]"
     ]
    },
    {
     "name": "stderr",
     "output_type": "stream",
     "text": [
      "scanning 1/16 weight - features.3.weight:  17%|█▋        | 1/6 [01:55<09:39, 115.93s/it]"
     ]
    },
    {
     "name": "stdout",
     "output_type": "stream",
     "text": [
      "    sparsity=0.40: accuracy=73.38%"
     ]
    },
    {
     "name": "stderr",
     "output_type": "stream",
     "text": [
      "scanning 1/16 weight - features.3.weight:  33%|███▎      | 2/6 [03:51<07:42, 115.66s/it]"
     ]
    },
    {
     "name": "stdout",
     "output_type": "stream",
     "text": [
      "    sparsity=0.50: accuracy=73.37%"
     ]
    },
    {
     "name": "stderr",
     "output_type": "stream",
     "text": [
      "scanning 1/16 weight - features.3.weight:  50%|█████     | 3/6 [05:46<05:46, 115.38s/it]"
     ]
    },
    {
     "name": "stdout",
     "output_type": "stream",
     "text": [
      "    sparsity=0.60: accuracy=73.32%"
     ]
    },
    {
     "name": "stderr",
     "output_type": "stream",
     "text": [
      "scanning 1/16 weight - features.3.weight:  67%|██████▋   | 4/6 [07:43<03:51, 115.89s/it]"
     ]
    },
    {
     "name": "stdout",
     "output_type": "stream",
     "text": [
      "    sparsity=0.70: accuracy=73.37%"
     ]
    },
    {
     "name": "stderr",
     "output_type": "stream",
     "text": [
      "scanning 1/16 weight - features.3.weight:  83%|████████▎ | 5/6 [09:38<01:55, 115.80s/it]"
     ]
    },
    {
     "name": "stdout",
     "output_type": "stream",
     "text": [
      "    sparsity=0.80: accuracy=73.21%"
     ]
    },
    {
     "name": "stderr",
     "output_type": "stream",
     "text": [
      "scanning 1/16 weight - features.3.weight: 100%|██████████| 6/6 [11:34<00:00, 115.67s/it]\n"
     ]
    },
    {
     "name": "stdout",
     "output_type": "stream",
     "text": [
      "    sparsity=[0.40,0.50,0.60,0.70,0.80,0.90]: accuracy=[73.38%, 73.37%, 73.32%, 73.37%, 73.21%, 72.42%]"
     ]
    },
    {
     "name": "stderr",
     "output_type": "stream",
     "text": [
      "scanning 2/16 weight - features.7.weight:  17%|█▋        | 1/6 [01:55<09:39, 115.97s/it]"
     ]
    },
    {
     "name": "stdout",
     "output_type": "stream",
     "text": [
      "    sparsity=0.40: accuracy=73.43%"
     ]
    },
    {
     "name": "stderr",
     "output_type": "stream",
     "text": [
      "scanning 2/16 weight - features.7.weight:  33%|███▎      | 2/6 [03:50<07:41, 115.40s/it]"
     ]
    },
    {
     "name": "stdout",
     "output_type": "stream",
     "text": [
      "    sparsity=0.50: accuracy=73.31%"
     ]
    },
    {
     "name": "stderr",
     "output_type": "stream",
     "text": [
      "scanning 2/16 weight - features.7.weight:  50%|█████     | 3/6 [05:46<05:46, 115.61s/it]"
     ]
    },
    {
     "name": "stdout",
     "output_type": "stream",
     "text": [
      "    sparsity=0.60: accuracy=73.04%"
     ]
    },
    {
     "name": "stderr",
     "output_type": "stream",
     "text": [
      "scanning 2/16 weight - features.7.weight:  67%|██████▋   | 4/6 [07:44<03:53, 116.59s/it]"
     ]
    },
    {
     "name": "stdout",
     "output_type": "stream",
     "text": [
      "    sparsity=0.70: accuracy=71.05%"
     ]
    },
    {
     "name": "stderr",
     "output_type": "stream",
     "text": [
      "scanning 2/16 weight - features.7.weight:  83%|████████▎ | 5/6 [09:40<01:56, 116.36s/it]"
     ]
    },
    {
     "name": "stdout",
     "output_type": "stream",
     "text": [
      "    sparsity=0.80: accuracy=61.39%"
     ]
    },
    {
     "name": "stderr",
     "output_type": "stream",
     "text": [
      "scanning 2/16 weight - features.7.weight: 100%|██████████| 6/6 [11:36<00:00, 116.05s/it]\n"
     ]
    },
    {
     "name": "stdout",
     "output_type": "stream",
     "text": [
      "    sparsity=[0.40,0.50,0.60,0.70,0.80,0.90]: accuracy=[73.43%, 73.31%, 73.04%, 71.05%, 61.39%, 32.74%]"
     ]
    },
    {
     "name": "stderr",
     "output_type": "stream",
     "text": [
      "scanning 3/16 weight - features.10.weight:  17%|█▋        | 1/6 [01:56<09:43, 116.71s/it]"
     ]
    },
    {
     "name": "stdout",
     "output_type": "stream",
     "text": [
      "    sparsity=0.40: accuracy=73.33%"
     ]
    },
    {
     "name": "stderr",
     "output_type": "stream",
     "text": [
      "scanning 3/16 weight - features.10.weight:  33%|███▎      | 2/6 [03:52<07:45, 116.26s/it]"
     ]
    },
    {
     "name": "stdout",
     "output_type": "stream",
     "text": [
      "    sparsity=0.50: accuracy=73.32%"
     ]
    },
    {
     "name": "stderr",
     "output_type": "stream",
     "text": [
      "scanning 3/16 weight - features.10.weight:  50%|█████     | 3/6 [05:48<05:47, 115.90s/it]"
     ]
    },
    {
     "name": "stdout",
     "output_type": "stream",
     "text": [
      "    sparsity=0.60: accuracy=73.02%"
     ]
    },
    {
     "name": "stderr",
     "output_type": "stream",
     "text": [
      "scanning 3/16 weight - features.10.weight:  67%|██████▋   | 4/6 [07:44<03:52, 116.09s/it]"
     ]
    },
    {
     "name": "stdout",
     "output_type": "stream",
     "text": [
      "    sparsity=0.70: accuracy=71.91%"
     ]
    },
    {
     "name": "stderr",
     "output_type": "stream",
     "text": [
      "scanning 3/16 weight - features.10.weight:  83%|████████▎ | 5/6 [09:43<01:57, 117.31s/it]"
     ]
    },
    {
     "name": "stdout",
     "output_type": "stream",
     "text": [
      "    sparsity=0.80: accuracy=67.24%"
     ]
    },
    {
     "name": "stderr",
     "output_type": "stream",
     "text": [
      "scanning 3/16 weight - features.10.weight: 100%|██████████| 6/6 [11:47<00:00, 117.91s/it]\n"
     ]
    },
    {
     "name": "stdout",
     "output_type": "stream",
     "text": [
      "    sparsity=[0.40,0.50,0.60,0.70,0.80,0.90]: accuracy=[73.33%, 73.32%, 73.02%, 71.91%, 67.24%, 43.21%]"
     ]
    },
    {
     "name": "stderr",
     "output_type": "stream",
     "text": [
      "scanning 4/16 weight - features.14.weight:  17%|█▋        | 1/6 [02:01<10:07, 121.42s/it]"
     ]
    },
    {
     "name": "stdout",
     "output_type": "stream",
     "text": [
      "    sparsity=0.40: accuracy=73.25%"
     ]
    },
    {
     "name": "stderr",
     "output_type": "stream",
     "text": [
      "scanning 4/16 weight - features.14.weight:  33%|███▎      | 2/6 [04:02<08:03, 120.93s/it]"
     ]
    },
    {
     "name": "stdout",
     "output_type": "stream",
     "text": [
      "    sparsity=0.50: accuracy=73.05%"
     ]
    },
    {
     "name": "stderr",
     "output_type": "stream",
     "text": [
      "scanning 4/16 weight - features.14.weight:  50%|█████     | 3/6 [06:03<06:03, 121.24s/it]"
     ]
    },
    {
     "name": "stdout",
     "output_type": "stream",
     "text": [
      "    sparsity=0.60: accuracy=72.78%"
     ]
    },
    {
     "name": "stderr",
     "output_type": "stream",
     "text": [
      "scanning 4/16 weight - features.14.weight:  67%|██████▋   | 4/6 [08:05<04:02, 121.48s/it]"
     ]
    },
    {
     "name": "stdout",
     "output_type": "stream",
     "text": [
      "    sparsity=0.70: accuracy=71.43%"
     ]
    },
    {
     "name": "stderr",
     "output_type": "stream",
     "text": [
      "scanning 4/16 weight - features.14.weight:  83%|████████▎ | 5/6 [10:06<02:01, 121.24s/it]"
     ]
    },
    {
     "name": "stdout",
     "output_type": "stream",
     "text": [
      "    sparsity=0.80: accuracy=69.04%"
     ]
    },
    {
     "name": "stderr",
     "output_type": "stream",
     "text": [
      "scanning 4/16 weight - features.14.weight: 100%|██████████| 6/6 [12:07<00:00, 121.29s/it]\n"
     ]
    },
    {
     "name": "stdout",
     "output_type": "stream",
     "text": [
      "    sparsity=[0.40,0.50,0.60,0.70,0.80,0.90]: accuracy=[73.25%, 73.05%, 72.78%, 71.43%, 69.04%, 55.22%]"
     ]
    },
    {
     "name": "stderr",
     "output_type": "stream",
     "text": [
      "scanning 5/16 weight - features.17.weight:  17%|█▋        | 1/6 [01:59<09:59, 119.98s/it]"
     ]
    },
    {
     "name": "stdout",
     "output_type": "stream",
     "text": [
      "    sparsity=0.40: accuracy=73.17%"
     ]
    },
    {
     "name": "stderr",
     "output_type": "stream",
     "text": [
      "scanning 5/16 weight - features.17.weight:  33%|███▎      | 2/6 [03:59<07:57, 119.47s/it]"
     ]
    },
    {
     "name": "stdout",
     "output_type": "stream",
     "text": [
      "    sparsity=0.50: accuracy=73.06%"
     ]
    },
    {
     "name": "stderr",
     "output_type": "stream",
     "text": [
      "scanning 5/16 weight - features.17.weight:  50%|█████     | 3/6 [05:58<05:58, 119.43s/it]"
     ]
    },
    {
     "name": "stdout",
     "output_type": "stream",
     "text": [
      "    sparsity=0.60: accuracy=72.74%"
     ]
    },
    {
     "name": "stderr",
     "output_type": "stream",
     "text": [
      "scanning 5/16 weight - features.17.weight:  67%|██████▋   | 4/6 [08:00<04:00, 120.45s/it]"
     ]
    },
    {
     "name": "stdout",
     "output_type": "stream",
     "text": [
      "    sparsity=0.70: accuracy=71.50%"
     ]
    },
    {
     "name": "stderr",
     "output_type": "stream",
     "text": [
      "scanning 5/16 weight - features.17.weight:  83%|████████▎ | 5/6 [10:01<02:00, 120.65s/it]"
     ]
    },
    {
     "name": "stdout",
     "output_type": "stream",
     "text": [
      "    sparsity=0.80: accuracy=66.81%"
     ]
    },
    {
     "name": "stderr",
     "output_type": "stream",
     "text": [
      "scanning 5/16 weight - features.17.weight: 100%|██████████| 6/6 [12:02<00:00, 120.37s/it]\n"
     ]
    },
    {
     "name": "stdout",
     "output_type": "stream",
     "text": [
      "    sparsity=[0.40,0.50,0.60,0.70,0.80,0.90]: accuracy=[73.17%, 73.06%, 72.74%, 71.50%, 66.81%, 22.05%]"
     ]
    },
    {
     "name": "stderr",
     "output_type": "stream",
     "text": [
      "scanning 6/16 weight - features.20.weight:  17%|█▋        | 1/6 [02:01<10:06, 121.21s/it]"
     ]
    },
    {
     "name": "stdout",
     "output_type": "stream",
     "text": [
      "    sparsity=0.40: accuracy=73.32%"
     ]
    },
    {
     "name": "stderr",
     "output_type": "stream",
     "text": [
      "scanning 6/16 weight - features.20.weight:  33%|███▎      | 2/6 [04:01<08:02, 120.61s/it]"
     ]
    },
    {
     "name": "stdout",
     "output_type": "stream",
     "text": [
      "    sparsity=0.50: accuracy=73.15%"
     ]
    },
    {
     "name": "stderr",
     "output_type": "stream",
     "text": [
      "scanning 6/16 weight - features.20.weight:  50%|█████     | 3/6 [06:02<06:02, 120.72s/it]"
     ]
    },
    {
     "name": "stdout",
     "output_type": "stream",
     "text": [
      "    sparsity=0.60: accuracy=72.65%"
     ]
    },
    {
     "name": "stderr",
     "output_type": "stream",
     "text": [
      "scanning 6/16 weight - features.20.weight:  67%|██████▋   | 4/6 [08:03<04:01, 120.82s/it]"
     ]
    },
    {
     "name": "stdout",
     "output_type": "stream",
     "text": [
      "    sparsity=0.70: accuracy=71.45%"
     ]
    },
    {
     "name": "stderr",
     "output_type": "stream",
     "text": [
      "scanning 6/16 weight - features.20.weight:  83%|████████▎ | 5/6 [10:03<02:00, 120.74s/it]"
     ]
    },
    {
     "name": "stdout",
     "output_type": "stream",
     "text": [
      "    sparsity=0.80: accuracy=64.32%"
     ]
    },
    {
     "name": "stderr",
     "output_type": "stream",
     "text": [
      "scanning 6/16 weight - features.20.weight: 100%|██████████| 6/6 [12:05<00:00, 120.84s/it]\n"
     ]
    },
    {
     "name": "stdout",
     "output_type": "stream",
     "text": [
      "    sparsity=[0.40,0.50,0.60,0.70,0.80,0.90]: accuracy=[73.32%, 73.15%, 72.65%, 71.45%, 64.32%, 24.32%]"
     ]
    },
    {
     "name": "stderr",
     "output_type": "stream",
     "text": [
      "scanning 7/16 weight - features.24.weight:  17%|█▋        | 1/6 [02:02<10:13, 122.71s/it]"
     ]
    },
    {
     "name": "stdout",
     "output_type": "stream",
     "text": [
      "    sparsity=0.40: accuracy=73.16%"
     ]
    },
    {
     "name": "stderr",
     "output_type": "stream",
     "text": [
      "scanning 7/16 weight - features.24.weight:  33%|███▎      | 2/6 [03:59<07:57, 119.39s/it]"
     ]
    },
    {
     "name": "stdout",
     "output_type": "stream",
     "text": [
      "    sparsity=0.50: accuracy=72.67%"
     ]
    },
    {
     "name": "stderr",
     "output_type": "stream",
     "text": [
      "scanning 7/16 weight - features.24.weight:  50%|█████     | 3/6 [05:56<05:54, 118.07s/it]"
     ]
    },
    {
     "name": "stdout",
     "output_type": "stream",
     "text": [
      "    sparsity=0.60: accuracy=71.45%"
     ]
    },
    {
     "name": "stderr",
     "output_type": "stream",
     "text": [
      "scanning 7/16 weight - features.24.weight:  67%|██████▋   | 4/6 [07:52<03:54, 117.20s/it]"
     ]
    },
    {
     "name": "stdout",
     "output_type": "stream",
     "text": [
      "    sparsity=0.70: accuracy=69.24%"
     ]
    },
    {
     "name": "stderr",
     "output_type": "stream",
     "text": [
      "scanning 7/16 weight - features.24.weight:  83%|████████▎ | 5/6 [09:48<01:56, 116.78s/it]"
     ]
    },
    {
     "name": "stdout",
     "output_type": "stream",
     "text": [
      "    sparsity=0.80: accuracy=61.81%"
     ]
    },
    {
     "name": "stderr",
     "output_type": "stream",
     "text": [
      "scanning 7/16 weight - features.24.weight: 100%|██████████| 6/6 [11:46<00:00, 117.82s/it]\n"
     ]
    },
    {
     "name": "stdout",
     "output_type": "stream",
     "text": [
      "    sparsity=[0.40,0.50,0.60,0.70,0.80,0.90]: accuracy=[73.16%, 72.67%, 71.45%, 69.24%, 61.81%, 18.76%]"
     ]
    },
    {
     "name": "stderr",
     "output_type": "stream",
     "text": [
      "scanning 8/16 weight - features.27.weight:  17%|█▋        | 1/6 [01:59<09:57, 119.43s/it]"
     ]
    },
    {
     "name": "stdout",
     "output_type": "stream",
     "text": [
      "    sparsity=0.40: accuracy=73.23%"
     ]
    },
    {
     "name": "stderr",
     "output_type": "stream",
     "text": [
      "scanning 8/16 weight - features.27.weight:  33%|███▎      | 2/6 [03:57<07:53, 118.41s/it]"
     ]
    },
    {
     "name": "stdout",
     "output_type": "stream",
     "text": [
      "    sparsity=0.50: accuracy=73.09%"
     ]
    },
    {
     "name": "stderr",
     "output_type": "stream",
     "text": [
      "scanning 8/16 weight - features.27.weight:  50%|█████     | 3/6 [05:52<05:50, 116.88s/it]"
     ]
    },
    {
     "name": "stdout",
     "output_type": "stream",
     "text": [
      "    sparsity=0.60: accuracy=72.57%"
     ]
    },
    {
     "name": "stderr",
     "output_type": "stream",
     "text": [
      "scanning 8/16 weight - features.27.weight:  67%|██████▋   | 4/6 [07:48<03:52, 116.50s/it]"
     ]
    },
    {
     "name": "stdout",
     "output_type": "stream",
     "text": [
      "    sparsity=0.70: accuracy=71.08%"
     ]
    },
    {
     "name": "stderr",
     "output_type": "stream",
     "text": [
      "scanning 8/16 weight - features.27.weight:  83%|████████▎ | 5/6 [09:43<01:56, 116.26s/it]"
     ]
    },
    {
     "name": "stdout",
     "output_type": "stream",
     "text": [
      "    sparsity=0.80: accuracy=64.38%"
     ]
    },
    {
     "name": "stderr",
     "output_type": "stream",
     "text": [
      "scanning 8/16 weight - features.27.weight: 100%|██████████| 6/6 [11:40<00:00, 116.75s/it]\n"
     ]
    },
    {
     "name": "stdout",
     "output_type": "stream",
     "text": [
      "    sparsity=[0.40,0.50,0.60,0.70,0.80,0.90]: accuracy=[73.23%, 73.09%, 72.57%, 71.08%, 64.38%, 13.61%]"
     ]
    },
    {
     "name": "stderr",
     "output_type": "stream",
     "text": [
      "scanning 9/16 weight - features.30.weight:  17%|█▋        | 1/6 [01:55<09:37, 115.57s/it]"
     ]
    },
    {
     "name": "stdout",
     "output_type": "stream",
     "text": [
      "    sparsity=0.40: accuracy=73.34%"
     ]
    },
    {
     "name": "stderr",
     "output_type": "stream",
     "text": [
      "scanning 9/16 weight - features.30.weight:  33%|███▎      | 2/6 [03:55<07:52, 118.21s/it]"
     ]
    },
    {
     "name": "stdout",
     "output_type": "stream",
     "text": [
      "    sparsity=0.50: accuracy=73.16%"
     ]
    },
    {
     "name": "stderr",
     "output_type": "stream",
     "text": [
      "scanning 9/16 weight - features.30.weight:  50%|█████     | 3/6 [05:57<05:59, 119.72s/it]"
     ]
    },
    {
     "name": "stdout",
     "output_type": "stream",
     "text": [
      "    sparsity=0.60: accuracy=72.62%"
     ]
    },
    {
     "name": "stderr",
     "output_type": "stream",
     "text": [
      "scanning 9/16 weight - features.30.weight:  67%|██████▋   | 4/6 [07:57<03:59, 120.00s/it]"
     ]
    },
    {
     "name": "stdout",
     "output_type": "stream",
     "text": [
      "    sparsity=0.70: accuracy=71.05%"
     ]
    },
    {
     "name": "stderr",
     "output_type": "stream",
     "text": [
      "scanning 9/16 weight - features.30.weight:  83%|████████▎ | 5/6 [09:58<02:00, 120.25s/it]"
     ]
    },
    {
     "name": "stdout",
     "output_type": "stream",
     "text": [
      "    sparsity=0.80: accuracy=64.38%"
     ]
    },
    {
     "name": "stderr",
     "output_type": "stream",
     "text": [
      "scanning 9/16 weight - features.30.weight: 100%|██████████| 6/6 [12:00<00:00, 120.03s/it]\n"
     ]
    },
    {
     "name": "stdout",
     "output_type": "stream",
     "text": [
      "    sparsity=[0.40,0.50,0.60,0.70,0.80,0.90]: accuracy=[73.34%, 73.16%, 72.62%, 71.05%, 64.38%, 19.29%]"
     ]
    },
    {
     "name": "stderr",
     "output_type": "stream",
     "text": [
      "scanning 10/16 weight - features.34.weight:  17%|█▋        | 1/6 [02:00<10:03, 120.77s/it]"
     ]
    },
    {
     "name": "stdout",
     "output_type": "stream",
     "text": [
      "    sparsity=0.40: accuracy=73.32%"
     ]
    },
    {
     "name": "stderr",
     "output_type": "stream",
     "text": [
      "scanning 10/16 weight - features.34.weight:  33%|███▎      | 2/6 [03:57<07:52, 118.15s/it]"
     ]
    },
    {
     "name": "stdout",
     "output_type": "stream",
     "text": [
      "    sparsity=0.50: accuracy=72.95%"
     ]
    },
    {
     "name": "stderr",
     "output_type": "stream",
     "text": [
      "scanning 10/16 weight - features.34.weight:  50%|█████     | 3/6 [05:52<05:51, 117.10s/it]"
     ]
    },
    {
     "name": "stdout",
     "output_type": "stream",
     "text": [
      "    sparsity=0.60: accuracy=72.33%"
     ]
    },
    {
     "name": "stderr",
     "output_type": "stream",
     "text": [
      "scanning 10/16 weight - features.34.weight:  67%|██████▋   | 4/6 [07:49<03:53, 116.81s/it]"
     ]
    },
    {
     "name": "stdout",
     "output_type": "stream",
     "text": [
      "    sparsity=0.70: accuracy=70.37%"
     ]
    },
    {
     "name": "stderr",
     "output_type": "stream",
     "text": [
      "scanning 10/16 weight - features.34.weight:  83%|████████▎ | 5/6 [09:46<01:56, 116.97s/it]"
     ]
    },
    {
     "name": "stdout",
     "output_type": "stream",
     "text": [
      "    sparsity=0.80: accuracy=62.11%"
     ]
    },
    {
     "name": "stderr",
     "output_type": "stream",
     "text": [
      "scanning 10/16 weight - features.34.weight: 100%|██████████| 6/6 [11:43<00:00, 117.20s/it]\n"
     ]
    },
    {
     "name": "stdout",
     "output_type": "stream",
     "text": [
      "    sparsity=[0.40,0.50,0.60,0.70,0.80,0.90]: accuracy=[73.32%, 72.95%, 72.33%, 70.37%, 62.11%, 16.26%]"
     ]
    },
    {
     "name": "stderr",
     "output_type": "stream",
     "text": [
      "scanning 11/16 weight - features.37.weight:  17%|█▋        | 1/6 [01:56<09:41, 116.24s/it]"
     ]
    },
    {
     "name": "stdout",
     "output_type": "stream",
     "text": [
      "    sparsity=0.40: accuracy=73.24%"
     ]
    },
    {
     "name": "stderr",
     "output_type": "stream",
     "text": [
      "scanning 11/16 weight - features.37.weight:  33%|███▎      | 2/6 [03:53<07:47, 116.90s/it]"
     ]
    },
    {
     "name": "stdout",
     "output_type": "stream",
     "text": [
      "    sparsity=0.50: accuracy=73.02%"
     ]
    },
    {
     "name": "stderr",
     "output_type": "stream",
     "text": [
      "scanning 11/16 weight - features.37.weight:  50%|█████     | 3/6 [05:50<05:50, 116.75s/it]"
     ]
    },
    {
     "name": "stdout",
     "output_type": "stream",
     "text": [
      "    sparsity=0.60: accuracy=72.59%"
     ]
    },
    {
     "name": "stderr",
     "output_type": "stream",
     "text": [
      "scanning 11/16 weight - features.37.weight:  67%|██████▋   | 4/6 [07:46<03:52, 116.42s/it]"
     ]
    },
    {
     "name": "stdout",
     "output_type": "stream",
     "text": [
      "    sparsity=0.70: accuracy=71.39%"
     ]
    },
    {
     "name": "stderr",
     "output_type": "stream",
     "text": [
      "scanning 11/16 weight - features.37.weight:  83%|████████▎ | 5/6 [09:42<01:56, 116.25s/it]"
     ]
    },
    {
     "name": "stdout",
     "output_type": "stream",
     "text": [
      "    sparsity=0.80: accuracy=68.02%"
     ]
    },
    {
     "name": "stderr",
     "output_type": "stream",
     "text": [
      "scanning 11/16 weight - features.37.weight: 100%|██████████| 6/6 [11:38<00:00, 116.39s/it]\n"
     ]
    },
    {
     "name": "stdout",
     "output_type": "stream",
     "text": [
      "    sparsity=[0.40,0.50,0.60,0.70,0.80,0.90]: accuracy=[73.24%, 73.02%, 72.59%, 71.39%, 68.02%, 51.47%]"
     ]
    },
    {
     "name": "stderr",
     "output_type": "stream",
     "text": [
      "scanning 12/16 weight - features.40.weight:  17%|█▋        | 1/6 [01:55<09:39, 115.84s/it]"
     ]
    },
    {
     "name": "stdout",
     "output_type": "stream",
     "text": [
      "    sparsity=0.40: accuracy=73.35%"
     ]
    },
    {
     "name": "stderr",
     "output_type": "stream",
     "text": [
      "scanning 12/16 weight - features.40.weight:  33%|███▎      | 2/6 [03:52<07:45, 116.46s/it]"
     ]
    },
    {
     "name": "stdout",
     "output_type": "stream",
     "text": [
      "    sparsity=0.50: accuracy=73.15%"
     ]
    },
    {
     "name": "stderr",
     "output_type": "stream",
     "text": [
      "scanning 12/16 weight - features.40.weight:  50%|█████     | 3/6 [05:49<05:49, 116.42s/it]"
     ]
    },
    {
     "name": "stdout",
     "output_type": "stream",
     "text": [
      "    sparsity=0.60: accuracy=72.76%"
     ]
    },
    {
     "name": "stderr",
     "output_type": "stream",
     "text": [
      "scanning 12/16 weight - features.40.weight:  67%|██████▋   | 4/6 [07:45<03:52, 116.40s/it]"
     ]
    },
    {
     "name": "stdout",
     "output_type": "stream",
     "text": [
      "    sparsity=0.70: accuracy=71.42%"
     ]
    },
    {
     "name": "stderr",
     "output_type": "stream",
     "text": [
      "scanning 12/16 weight - features.40.weight:  83%|████████▎ | 5/6 [09:41<01:56, 116.13s/it]"
     ]
    },
    {
     "name": "stdout",
     "output_type": "stream",
     "text": [
      "    sparsity=0.80: accuracy=66.87%"
     ]
    },
    {
     "name": "stderr",
     "output_type": "stream",
     "text": [
      "scanning 12/16 weight - features.40.weight: 100%|██████████| 6/6 [11:38<00:00, 116.47s/it]\n"
     ]
    },
    {
     "name": "stdout",
     "output_type": "stream",
     "text": [
      "    sparsity=[0.40,0.50,0.60,0.70,0.80,0.90]: accuracy=[73.35%, 73.15%, 72.76%, 71.42%, 66.87%, 48.34%]"
     ]
    },
    {
     "name": "stderr",
     "output_type": "stream",
     "text": [
      "scanning 13/16 weight - classifier.0.weight:  17%|█▋        | 1/6 [01:55<09:37, 115.60s/it]"
     ]
    },
    {
     "name": "stdout",
     "output_type": "stream",
     "text": [
      "    sparsity=0.40: accuracy=73.36%"
     ]
    },
    {
     "name": "stderr",
     "output_type": "stream",
     "text": [
      "scanning 13/16 weight - classifier.0.weight:  33%|███▎      | 2/6 [03:53<07:47, 116.86s/it]"
     ]
    },
    {
     "name": "stdout",
     "output_type": "stream",
     "text": [
      "    sparsity=0.50: accuracy=73.28%"
     ]
    },
    {
     "name": "stderr",
     "output_type": "stream",
     "text": [
      "scanning 13/16 weight - classifier.0.weight:  50%|█████     | 3/6 [05:49<05:49, 116.40s/it]"
     ]
    },
    {
     "name": "stdout",
     "output_type": "stream",
     "text": [
      "    sparsity=0.60: accuracy=73.09%"
     ]
    },
    {
     "name": "stderr",
     "output_type": "stream",
     "text": [
      "scanning 13/16 weight - classifier.0.weight:  67%|██████▋   | 4/6 [07:45<03:52, 116.20s/it]"
     ]
    },
    {
     "name": "stdout",
     "output_type": "stream",
     "text": [
      "    sparsity=0.70: accuracy=72.75%"
     ]
    },
    {
     "name": "stderr",
     "output_type": "stream",
     "text": [
      "scanning 13/16 weight - classifier.0.weight:  83%|████████▎ | 5/6 [09:42<01:56, 116.70s/it]"
     ]
    },
    {
     "name": "stdout",
     "output_type": "stream",
     "text": [
      "    sparsity=0.80: accuracy=71.53%"
     ]
    },
    {
     "name": "stderr",
     "output_type": "stream",
     "text": [
      "scanning 13/16 weight - classifier.0.weight: 100%|██████████| 6/6 [11:39<00:00, 116.50s/it]\n"
     ]
    },
    {
     "name": "stdout",
     "output_type": "stream",
     "text": [
      "    sparsity=[0.40,0.50,0.60,0.70,0.80,0.90]: accuracy=[73.36%, 73.28%, 73.09%, 72.75%, 71.53%, 67.60%]"
     ]
    },
    {
     "name": "stderr",
     "output_type": "stream",
     "text": [
      "scanning 14/16 weight - classifier.3.weight:  17%|█▋        | 1/6 [01:56<09:41, 116.29s/it]"
     ]
    },
    {
     "name": "stdout",
     "output_type": "stream",
     "text": [
      "    sparsity=0.40: accuracy=73.39%"
     ]
    },
    {
     "name": "stderr",
     "output_type": "stream",
     "text": [
      "scanning 14/16 weight - classifier.3.weight:  33%|███▎      | 2/6 [03:53<07:47, 116.99s/it]"
     ]
    },
    {
     "name": "stdout",
     "output_type": "stream",
     "text": [
      "    sparsity=0.50: accuracy=73.39%"
     ]
    },
    {
     "name": "stderr",
     "output_type": "stream",
     "text": [
      "scanning 14/16 weight - classifier.3.weight:  50%|█████     | 3/6 [05:50<05:50, 116.71s/it]"
     ]
    },
    {
     "name": "stdout",
     "output_type": "stream",
     "text": [
      "    sparsity=0.60: accuracy=73.27%"
     ]
    },
    {
     "name": "stderr",
     "output_type": "stream",
     "text": [
      "scanning 14/16 weight - classifier.3.weight:  67%|██████▋   | 4/6 [07:46<03:52, 116.41s/it]"
     ]
    },
    {
     "name": "stdout",
     "output_type": "stream",
     "text": [
      "    sparsity=0.70: accuracy=73.14%"
     ]
    },
    {
     "name": "stderr",
     "output_type": "stream",
     "text": [
      "scanning 14/16 weight - classifier.3.weight:  83%|████████▎ | 5/6 [09:42<01:56, 116.32s/it]"
     ]
    },
    {
     "name": "stdout",
     "output_type": "stream",
     "text": [
      "    sparsity=0.80: accuracy=72.72%"
     ]
    },
    {
     "name": "stderr",
     "output_type": "stream",
     "text": [
      "scanning 14/16 weight - classifier.3.weight: 100%|██████████| 6/6 [11:37<00:00, 116.29s/it]\n"
     ]
    },
    {
     "name": "stdout",
     "output_type": "stream",
     "text": [
      "    sparsity=[0.40,0.50,0.60,0.70,0.80,0.90]: accuracy=[73.39%, 73.39%, 73.27%, 73.14%, 72.72%, 70.84%]"
     ]
    },
    {
     "name": "stderr",
     "output_type": "stream",
     "text": [
      "scanning 15/16 weight - classifier.6.weight:  17%|█▋        | 1/6 [01:56<09:41, 116.34s/it]"
     ]
    },
    {
     "name": "stdout",
     "output_type": "stream",
     "text": [
      "    sparsity=0.40: accuracy=73.37%"
     ]
    },
    {
     "name": "stderr",
     "output_type": "stream",
     "text": [
      "scanning 15/16 weight - classifier.6.weight:  33%|███▎      | 2/6 [03:53<07:47, 116.76s/it]"
     ]
    },
    {
     "name": "stdout",
     "output_type": "stream",
     "text": [
      "    sparsity=0.50: accuracy=73.22%"
     ]
    },
    {
     "name": "stderr",
     "output_type": "stream",
     "text": [
      "scanning 15/16 weight - classifier.6.weight:  50%|█████     | 3/6 [05:50<05:50, 116.70s/it]"
     ]
    },
    {
     "name": "stdout",
     "output_type": "stream",
     "text": [
      "    sparsity=0.60: accuracy=73.04%"
     ]
    },
    {
     "name": "stderr",
     "output_type": "stream",
     "text": [
      "scanning 15/16 weight - classifier.6.weight:  67%|██████▋   | 4/6 [07:46<03:53, 116.53s/it]"
     ]
    },
    {
     "name": "stdout",
     "output_type": "stream",
     "text": [
      "    sparsity=0.70: accuracy=72.59%"
     ]
    },
    {
     "name": "stderr",
     "output_type": "stream",
     "text": [
      "scanning 15/16 weight - classifier.6.weight:  83%|████████▎ | 5/6 [09:41<01:56, 116.16s/it]"
     ]
    },
    {
     "name": "stdout",
     "output_type": "stream",
     "text": [
      "    sparsity=0.80: accuracy=71.57%"
     ]
    },
    {
     "name": "stderr",
     "output_type": "stream",
     "text": [
      "scanning 15/16 weight - classifier.6.weight: 100%|██████████| 6/6 [11:38<00:00, 116.36s/it]"
     ]
    },
    {
     "name": "stdout",
     "output_type": "stream",
     "text": [
      "    sparsity=[0.40,0.50,0.60,0.70,0.80,0.90]: accuracy=[73.37%, 73.22%, 73.04%, 72.59%, 71.57%, 67.01%]"
     ]
    },
    {
     "name": "stderr",
     "output_type": "stream",
     "text": [
      "\n"
     ]
    }
   ],
   "source": [
    "sparsities, accuracies = sensitivity_scan(model, dataloader['test'], scan_step=0.1, scan_start=0.4, scan_end=1.0)"
   ]
  },
  {
   "cell_type": "code",
   "execution_count": null,
   "metadata": {},
   "outputs": [
    {
     "data": {
      "image/png": "[encoded data removed]",
      "text/plain": [
       "<Figure size 2000x1000 with 16 Axes>"
      ]
     },
     "metadata": {},
     "output_type": "display_data"
    }
   ],
   "source": [
    "def plot_sensitivity_scan(sparsities, accuracies, dense_model_accuracy):\n",
    "    fig, axes = plt.subplots(4, int(math.ceil(len(accuracies) / 4)),figsize=(20,10))\n",
    "    axes = axes.ravel()\n",
    "    plot_index = 0\n",
    "    for name, param in model.named_parameters():\n",
    "        if param.dim() > 1:\n",
    "            ax = axes[plot_index]\n",
    "            curve = ax.plot(sparsities, accuracies[plot_index])\n",
    "            line = ax.plot(sparsities, [dense_model_accuracy] * len(sparsities))\n",
    "            ax.set_xticks(np.arange(start=0.4, stop=1.0, step=0.1))\n",
    "            ax.set_ylim(60, 75)\n",
    "            ax.set_title(name)\n",
    "            ax.set_xlabel('sparsity')\n",
    "            ax.set_ylabel('top-1 accuracy')\n",
    "            ax.legend([\n",
    "                'accuracy after pruning',\n",
    "                f'{dense_model_accuracy:.0f}% of dense model accuracy'\n",
    "            ])\n",
    "            ax.grid(axis='x')\n",
    "            plot_index += 1\n",
    "    fig.suptitle('Sensitivity Curves: Validation Accuracy vs. Pruning Sparsity')\n",
    "    fig.tight_layout()\n",
    "    fig.subplots_adjust(top=0.925)\n",
    "    plt.show()\n",
    "\n",
    "plot_sensitivity_scan(sparsities, accuracies, dense_model_accuracy)"
   ]
  },
  {
   "cell_type": "code",
   "execution_count": 53,
   "metadata": {},
   "outputs": [
    {
     "name": "stdout",
     "output_type": "stream",
     "text": [
      "{'features.0.weight': 1728, 'features.3.weight': 36864, 'features.7.weight': 73728, 'features.10.weight': 147456, 'features.14.weight': 294912, 'features.17.weight': 589824, 'features.20.weight': 589824, 'features.24.weight': 1179648, 'features.27.weight': 2359296, 'features.30.weight': 2359296, 'features.34.weight': 2359296, 'features.37.weight': 2359296, 'features.40.weight': 2359296, 'classifier.0.weight': 102760448, 'classifier.3.weight': 16777216, 'classifier.6.weight': 4096000}\n"
     ]
    },
    {
     "data": {
      "image/png": "[encoded data removed]",
      "text/plain": [
       "<Figure size 2000x600 with 1 Axes>"
      ]
     },
     "metadata": {},
     "output_type": "display_data"
    }
   ],
   "source": [
    "def plot_num_parameters_distribution(model):\n",
    "    num_parameters = dict()\n",
    "    for name, param in model.named_parameters():\n",
    "        if param.dim() > 1:\n",
    "            num_parameters[name] = param.numel()\n",
    "    print(num_parameters)\n",
    "    fig = plt.figure(figsize=(20, 6))\n",
    "    plt.grid(axis='y')\n",
    "    plt.bar(list(num_parameters.keys()), list(num_parameters.values()))\n",
    "    plt.title('#Parameter Distribution')\n",
    "    plt.ylabel('Number of Parameters')\n",
    "    plt.xticks(rotation=60)\n",
    "    plt.tight_layout()\n",
    "    plt.show()\n",
    "\n",
    "plot_num_parameters_distribution(model)"
   ]
  },
  {
   "cell_type": "markdown",
   "metadata": {},
   "source": [
    "### Find the optimal sparsities and finetune the model"
   ]
  },
  {
   "cell_type": "code",
   "execution_count": 7,
   "metadata": {},
   "outputs": [
    {
     "data": {
      "text/plain": [
       "16"
      ]
     },
     "execution_count": 7,
     "metadata": {},
     "output_type": "execute_result"
    }
   ],
   "source": [
    "\n",
    "sp_list = [0.7, 0.8, 0.6, 0.6, 0.5, 0.5, 0.5, 0.4, 0.5, 0.5, 0.4, 0.5, 0.5, 0.6, 0.7, 0.6]\n",
    "len(sp_list)"
   ]
  },
  {
   "cell_type": "code",
   "execution_count": 8,
   "metadata": {},
   "outputs": [
    {
     "data": {
      "text/plain": [
       "{'features.0.weight': 0.7,\n",
       " 'features.3.weight': 0.8,\n",
       " 'features.7.weight': 0.6,\n",
       " 'features.10.weight': 0.6,\n",
       " 'features.14.weight': 0.5,\n",
       " 'features.17.weight': 0.5,\n",
       " 'features.20.weight': 0.5,\n",
       " 'features.24.weight': 0.4,\n",
       " 'features.27.weight': 0.5,\n",
       " 'features.30.weight': 0.5,\n",
       " 'features.34.weight': 0.4,\n",
       " 'features.37.weight': 0.5,\n",
       " 'features.40.weight': 0.5,\n",
       " 'classifier.0.weight': 0.6,\n",
       " 'classifier.3.weight': 0.7,\n",
       " 'classifier.6.weight': 0.6}"
      ]
     },
     "execution_count": 8,
     "metadata": {},
     "output_type": "execute_result"
    }
   ],
   "source": [
    "i = 0\n",
    "optimal_sparsities = dict()\n",
    "for (name, param) in model.named_parameters():\n",
    "    if param.dim() > 1:\n",
    "        optimal_sparsities[name] = sp_list[i]\n",
    "        i += 1\n",
    "optimal_sparsities"
   ]
  },
  {
   "cell_type": "code",
   "execution_count": null,
   "metadata": {},
   "outputs": [
    {
     "name": "stdout",
     "output_type": "stream",
     "text": [
      "After pruning with sparsity dictionary\n",
      "  features.0.weight: 0.70\n",
      "  features.3.weight: 0.80\n",
      "  features.7.weight: 0.60\n",
      "  features.10.weight: 0.60\n",
      "  features.14.weight: 0.50\n",
      "  features.17.weight: 0.50\n",
      "  features.20.weight: 0.50\n",
      "  features.24.weight: 0.40\n",
      "  features.27.weight: 0.50\n",
      "  features.30.weight: 0.50\n",
      "  features.34.weight: 0.40\n",
      "  features.37.weight: 0.50\n",
      "  features.40.weight: 0.50\n",
      "  classifier.0.weight: 0.60\n",
      "  classifier.3.weight: 0.70\n",
      "  classifier.6.weight: 0.60\n",
      "The sparsity of each layer becomes\n",
      "  features.0.weight: 0.70\n",
      "  features.3.weight: 0.80\n",
      "  features.7.weight: 0.60\n",
      "  features.10.weight: 0.60\n",
      "  features.14.weight: 0.50\n",
      "  features.17.weight: 0.50\n",
      "  features.20.weight: 0.50\n",
      "  features.24.weight: 0.40\n",
      "  features.27.weight: 0.50\n",
      "  features.30.weight: 0.50\n",
      "  features.34.weight: 0.40\n",
      "  features.37.weight: 0.50\n",
      "  features.40.weight: 0.50\n",
      "  classifier.0.weight: 0.60\n",
      "  classifier.3.weight: 0.70\n",
      "  classifier.6.weight: 0.60\n",
      "Sparse model has size = 211.61 MiB = 40.09% of dense model size\n"
     ]
    },
    {
     "name": "stderr",
     "output_type": "stream",
     "text": [
      "                                                       "
     ]
    },
    {
     "name": "stdout",
     "output_type": "stream",
     "text": [
      "Sparse model has accuracy = 68.79% before fintuning\n"
     ]
    },
    {
     "name": "stderr",
     "output_type": "stream",
     "text": [
      "\r"
     ]
    }
   ],
   "source": [
    "def fine_grained_prune(tensor: torch.Tensor, sparsity : float) -> torch.Tensor:\n",
    "    \"\"\"\n",
    "    magnitude-based pruning for single tensor\n",
    "    :param tensor: torch.(cuda.)Tensor, weight of conv/fc layer\n",
    "    :param sparsity: float, pruning sparsity\n",
    "        sparsity = #zeros / #elements = 1 - #nonzeros / #elements\n",
    "    :return:\n",
    "        torch.(cuda.)Tensor, mask for zeros\n",
    "    \"\"\"\n",
    "    sparsity = min(max(0.0, sparsity), 1.0)\n",
    "    if sparsity == 1.0:\n",
    "        tensor.zero_()\n",
    "        return torch.zeros_like(tensor)\n",
    "    elif sparsity == 0.0:\n",
    "        return torch.ones_like(tensor)\n",
    "\n",
    "    num_elements = tensor.numel()\n",
    "\n",
    "    ##################### YOUR CODE STARTS HERE #####################\n",
    "    # Step 1: calculate the #zeros (please use round())\n",
    "    num_zeros = round(num_elements * sparsity)\n",
    "    # Step 2: calculate the importance of weight\n",
    "    importance = torch.abs(tensor)\n",
    "    # Step 3: calculate the pruning threshold\n",
    "    threshold = torch.kthvalue(importance.flatten(), num_zeros)[0]\n",
    "    # Step 4: get binary mask (1 for nonzeros, 0 for zeros)\n",
    "    mask = importance > threshold\n",
    "    ##################### YOUR CODE ENDS HERE #######################\n",
    "\n",
    "    # Step 5: apply mask to prune the tensor\n",
    "    tensor.mul_(mask)\n",
    "\n",
    "    return mask\n",
    "\n",
    "class FineGrainedPruner:\n",
    "    def __init__(self, model, sparsity_dict):\n",
    "        self.masks = FineGrainedPruner.prune(model, sparsity_dict)\n",
    "\n",
    "    @torch.no_grad()\n",
    "    def apply(self, model):\n",
    "        for name, param in model.named_parameters():\n",
    "            if name in self.masks:\n",
    "                param *= self.masks[name]\n",
    "\n",
    "    @staticmethod\n",
    "    @torch.no_grad()\n",
    "    def prune(model, sparsity_dict):\n",
    "        masks = dict()\n",
    "        for name, param in model.named_parameters():\n",
    "            if param.dim() > 1: # we only prune conv and fc weights\n",
    "                masks[name] = fine_grained_prune(param, sparsity_dict[name])\n",
    "        return masks"
   ]
  },
  {
   "cell_type": "code",
   "execution_count": null,
   "metadata": {},
   "outputs": [],
   "source": [
    "\n",
    "pruner = FineGrainedPruner(model, optimal_sparsities, device=DEVICE)\n",
    "print(f'After pruning with sparsity dictionary')\n",
    "for name, sparsity in optimal_sparsities.items():\n",
    "    print(f'  {name}: {sparsity:.2f}')\n",
    "print(f'The sparsity of each layer becomes')\n",
    "for name, param in model.named_parameters():\n",
    "    if name in optimal_sparsities:\n",
    "        print(f'  {name}: {get_sparsity(param):.2f}')\n",
    "\n",
    "sparse_model_size = get_model_size(model, count_nonzero_only=True)\n",
    "print(f\"Sparse model has size = {sparse_model_size / MiB:.2f} MiB = {sparse_model_size / dense_model_size * 100:.2f}% of dense model size\")\n",
    "sparse_model_accuracy = evaluate(model, dataloader['test'], device=DEVICE)\n",
    "print(f\"Sparse model has accuracy = {sparse_model_accuracy:.2f}% before fintuning\")\n",
    "\n",
    "# plot_weight_distribution(model, count_nonzero_only=True)"
   ]
  },
  {
   "cell_type": "markdown",
   "metadata": {},
   "source": [
    "### Finetune the Fine-Grained Pruned Model"
   ]
  },
  {
   "cell_type": "code",
   "execution_count": null,
   "metadata": {},
   "outputs": [
    {
     "name": "stderr",
     "output_type": "stream",
     "text": [
      "                                               \r"
     ]
    },
    {
     "ename": "RuntimeError",
     "evalue": "Inference tensors cannot be saved for backward. To work around you can make a clone to get a normal tensor and use it in autograd.",
     "output_type": "error",
     "traceback": [
      "\u001b[0;31m---------------------------------------------------------------------------\u001b[0m",
      "\u001b[0;31mRuntimeError\u001b[0m                              Traceback (most recent call last)",
      "Cell \u001b[0;32mIn[10], line 9\u001b[0m\n\u001b[1;32m      6\u001b[0m scheduler \u001b[38;5;241m=\u001b[39m torch\u001b[38;5;241m.\u001b[39moptim\u001b[38;5;241m.\u001b[39mlr_scheduler\u001b[38;5;241m.\u001b[39mCosineAnnealingLR(optimizer, num_finetune_epochs)\n\u001b[1;32m      7\u001b[0m criterion \u001b[38;5;241m=\u001b[39m nn\u001b[38;5;241m.\u001b[39mCrossEntropyLoss()\n\u001b[0;32m----> 9\u001b[0m sparse_model_dict \u001b[38;5;241m=\u001b[39m \u001b[43mfinetune\u001b[49m\u001b[43m(\u001b[49m\u001b[43mmodel\u001b[49m\u001b[43m,\u001b[49m\n\u001b[1;32m     10\u001b[0m \u001b[43m                              \u001b[49m\u001b[43mdataloader\u001b[49m\u001b[43m,\u001b[49m\n\u001b[1;32m     11\u001b[0m \u001b[43m                              \u001b[49m\u001b[43mcriterion\u001b[49m\u001b[43m,\u001b[49m\n\u001b[1;32m     12\u001b[0m \u001b[43m                              \u001b[49m\u001b[43moptimizer\u001b[49m\u001b[43m,\u001b[49m\n\u001b[1;32m     13\u001b[0m \u001b[43m                              \u001b[49m\u001b[43mscheduler\u001b[49m\u001b[43m,\u001b[49m\n\u001b[1;32m     14\u001b[0m \u001b[43m                              \u001b[49m\u001b[43mpruner_method\u001b[49m\u001b[38;5;241;43m=\u001b[39;49m\u001b[38;5;124;43m'\u001b[39;49m\u001b[38;5;124;43mfine_grained\u001b[39;49m\u001b[38;5;124;43m'\u001b[39;49m\u001b[43m,\u001b[49m\n\u001b[1;32m     15\u001b[0m \u001b[43m                              \u001b[49m\u001b[43msparsities\u001b[49m\u001b[38;5;241;43m=\u001b[39;49m\u001b[43moptimal_sparsities\u001b[49m\u001b[43m,\u001b[49m\n\u001b[1;32m     16\u001b[0m \u001b[43m                              \u001b[49m\u001b[43mnum_finetune_epochs\u001b[49m\u001b[38;5;241;43m=\u001b[39;49m\u001b[43mnum_finetune_epochs\u001b[49m\u001b[43m,\u001b[49m\n\u001b[1;32m     17\u001b[0m \u001b[43m                              \u001b[49m\u001b[43mdevice\u001b[49m\u001b[38;5;241;43m=\u001b[39;49m\u001b[43mDEVICE\u001b[49m\u001b[43m,\u001b[49m\n\u001b[1;32m     18\u001b[0m \u001b[43m                              \u001b[49m\u001b[43mcallbacks\u001b[49m\u001b[38;5;241;43m=\u001b[39;49m\u001b[43m[\u001b[49m\u001b[38;5;28;43;01mlambda\u001b[39;49;00m\u001b[43m:\u001b[49m\u001b[43m \u001b[49m\u001b[43mpruner\u001b[49m\u001b[38;5;241;43m.\u001b[39;49m\u001b[43mapply\u001b[49m\u001b[43m(\u001b[49m\u001b[43mmodel\u001b[49m\u001b[43m)\u001b[49m\u001b[43m]\u001b[49m\u001b[43m)\u001b[49m\n",
      "File \u001b[0;32m~/Desktop/Learning-Both-Weights-and-Connections-for-Efficient-NNs/train.py:117\u001b[0m, in \u001b[0;36mfinetune\u001b[0;34m(model, dataloader, criterion, optimizer, scheduler, pruner_method, sparsities, prune_ratio, num_finetune_epochs, device, callbacks)\u001b[0m\n\u001b[1;32m    115\u001b[0m best_accuracy \u001b[38;5;241m=\u001b[39m \u001b[38;5;241m0\u001b[39m\n\u001b[1;32m    116\u001b[0m \u001b[38;5;28;01mfor\u001b[39;00m epoch \u001b[38;5;129;01min\u001b[39;00m \u001b[38;5;28mrange\u001b[39m(num_finetune_epochs):\n\u001b[0;32m--> 117\u001b[0m     \u001b[43mtrain\u001b[49m\u001b[43m(\u001b[49m\n\u001b[1;32m    118\u001b[0m \u001b[43m        \u001b[49m\u001b[43mmodel\u001b[49m\u001b[43m,\u001b[49m\n\u001b[1;32m    119\u001b[0m \u001b[43m        \u001b[49m\u001b[43mdataloader\u001b[49m\u001b[43m[\u001b[49m\u001b[38;5;124;43m\"\u001b[39;49m\u001b[38;5;124;43mtrain\u001b[39;49m\u001b[38;5;124;43m\"\u001b[39;49m\u001b[43m]\u001b[49m\u001b[43m,\u001b[49m\n\u001b[1;32m    120\u001b[0m \u001b[43m        \u001b[49m\u001b[43mcriterion\u001b[49m\u001b[43m,\u001b[49m\n\u001b[1;32m    121\u001b[0m \u001b[43m        \u001b[49m\u001b[43moptimizer\u001b[49m\u001b[43m,\u001b[49m\n\u001b[1;32m    122\u001b[0m \u001b[43m        \u001b[49m\u001b[43mscheduler\u001b[49m\u001b[43m,\u001b[49m\n\u001b[1;32m    123\u001b[0m \u001b[43m        \u001b[49m\u001b[43mcallbacks\u001b[49m\u001b[43m,\u001b[49m\n\u001b[1;32m    124\u001b[0m \u001b[43m        \u001b[49m\u001b[43mdevice\u001b[49m\u001b[43m,\u001b[49m\n\u001b[1;32m    125\u001b[0m \u001b[43m    \u001b[49m\u001b[43m)\u001b[49m\n\u001b[1;32m    126\u001b[0m     accuracy \u001b[38;5;241m=\u001b[39m evaluate(model, dataloader[\u001b[38;5;124m\"\u001b[39m\u001b[38;5;124mtest\u001b[39m\u001b[38;5;124m\"\u001b[39m], device\u001b[38;5;241m=\u001b[39mdevice)\n\u001b[1;32m    127\u001b[0m     is_best \u001b[38;5;241m=\u001b[39m accuracy \u001b[38;5;241m>\u001b[39m best_accuracy\n",
      "File \u001b[0;32m~/Desktop/Learning-Both-Weights-and-Connections-for-Efficient-NNs/train.py:30\u001b[0m, in \u001b[0;36mtrain\u001b[0;34m(model, dataloader, criterion, optimizer, scheduler, callbacks, device)\u001b[0m\n\u001b[1;32m     28\u001b[0m targets \u001b[38;5;241m=\u001b[39m targets\u001b[38;5;241m.\u001b[39mto(device)\n\u001b[1;32m     29\u001b[0m optimizer\u001b[38;5;241m.\u001b[39mzero_grad()\n\u001b[0;32m---> 30\u001b[0m outputs \u001b[38;5;241m=\u001b[39m \u001b[43mmodel\u001b[49m\u001b[43m(\u001b[49m\u001b[43minputs\u001b[49m\u001b[43m)\u001b[49m\n\u001b[1;32m     31\u001b[0m loss \u001b[38;5;241m=\u001b[39m criterion(outputs, targets)\n\u001b[1;32m     32\u001b[0m loss\u001b[38;5;241m.\u001b[39mbackward()\n",
      "File \u001b[0;32m/usr/lib/python3.10/torch/nn/modules/module.py:1553\u001b[0m, in \u001b[0;36mModule._wrapped_call_impl\u001b[0;34m(self, *args, **kwargs)\u001b[0m\n\u001b[1;32m   1551\u001b[0m     \u001b[38;5;28;01mreturn\u001b[39;00m \u001b[38;5;28mself\u001b[39m\u001b[38;5;241m.\u001b[39m_compiled_call_impl(\u001b[38;5;241m*\u001b[39margs, \u001b[38;5;241m*\u001b[39m\u001b[38;5;241m*\u001b[39mkwargs)  \u001b[38;5;66;03m# type: ignore[misc]\u001b[39;00m\n\u001b[1;32m   1552\u001b[0m \u001b[38;5;28;01melse\u001b[39;00m:\n\u001b[0;32m-> 1553\u001b[0m     \u001b[38;5;28;01mreturn\u001b[39;00m \u001b[38;5;28;43mself\u001b[39;49m\u001b[38;5;241;43m.\u001b[39;49m\u001b[43m_call_impl\u001b[49m\u001b[43m(\u001b[49m\u001b[38;5;241;43m*\u001b[39;49m\u001b[43margs\u001b[49m\u001b[43m,\u001b[49m\u001b[43m \u001b[49m\u001b[38;5;241;43m*\u001b[39;49m\u001b[38;5;241;43m*\u001b[39;49m\u001b[43mkwargs\u001b[49m\u001b[43m)\u001b[49m\n",
      "File \u001b[0;32m/usr/lib/python3.10/torch/nn/modules/module.py:1562\u001b[0m, in \u001b[0;36mModule._call_impl\u001b[0;34m(self, *args, **kwargs)\u001b[0m\n\u001b[1;32m   1557\u001b[0m \u001b[38;5;66;03m# If we don't have any hooks, we want to skip the rest of the logic in\u001b[39;00m\n\u001b[1;32m   1558\u001b[0m \u001b[38;5;66;03m# this function, and just call forward.\u001b[39;00m\n\u001b[1;32m   1559\u001b[0m \u001b[38;5;28;01mif\u001b[39;00m \u001b[38;5;129;01mnot\u001b[39;00m (\u001b[38;5;28mself\u001b[39m\u001b[38;5;241m.\u001b[39m_backward_hooks \u001b[38;5;129;01mor\u001b[39;00m \u001b[38;5;28mself\u001b[39m\u001b[38;5;241m.\u001b[39m_backward_pre_hooks \u001b[38;5;129;01mor\u001b[39;00m \u001b[38;5;28mself\u001b[39m\u001b[38;5;241m.\u001b[39m_forward_hooks \u001b[38;5;129;01mor\u001b[39;00m \u001b[38;5;28mself\u001b[39m\u001b[38;5;241m.\u001b[39m_forward_pre_hooks\n\u001b[1;32m   1560\u001b[0m         \u001b[38;5;129;01mor\u001b[39;00m _global_backward_pre_hooks \u001b[38;5;129;01mor\u001b[39;00m _global_backward_hooks\n\u001b[1;32m   1561\u001b[0m         \u001b[38;5;129;01mor\u001b[39;00m _global_forward_hooks \u001b[38;5;129;01mor\u001b[39;00m _global_forward_pre_hooks):\n\u001b[0;32m-> 1562\u001b[0m     \u001b[38;5;28;01mreturn\u001b[39;00m \u001b[43mforward_call\u001b[49m\u001b[43m(\u001b[49m\u001b[38;5;241;43m*\u001b[39;49m\u001b[43margs\u001b[49m\u001b[43m,\u001b[49m\u001b[43m \u001b[49m\u001b[38;5;241;43m*\u001b[39;49m\u001b[38;5;241;43m*\u001b[39;49m\u001b[43mkwargs\u001b[49m\u001b[43m)\u001b[49m\n\u001b[1;32m   1564\u001b[0m \u001b[38;5;28;01mtry\u001b[39;00m:\n\u001b[1;32m   1565\u001b[0m     result \u001b[38;5;241m=\u001b[39m \u001b[38;5;28;01mNone\u001b[39;00m\n",
      "File \u001b[0;32m/usr/lib/python3.10/torchvision/models/vgg.py:66\u001b[0m, in \u001b[0;36mVGG.forward\u001b[0;34m(self, x)\u001b[0m\n\u001b[1;32m     65\u001b[0m \u001b[38;5;28;01mdef\u001b[39;00m\u001b[38;5;250m \u001b[39m\u001b[38;5;21mforward\u001b[39m(\u001b[38;5;28mself\u001b[39m, x: torch\u001b[38;5;241m.\u001b[39mTensor) \u001b[38;5;241m-\u001b[39m\u001b[38;5;241m>\u001b[39m torch\u001b[38;5;241m.\u001b[39mTensor:\n\u001b[0;32m---> 66\u001b[0m     x \u001b[38;5;241m=\u001b[39m \u001b[38;5;28;43mself\u001b[39;49m\u001b[38;5;241;43m.\u001b[39;49m\u001b[43mfeatures\u001b[49m\u001b[43m(\u001b[49m\u001b[43mx\u001b[49m\u001b[43m)\u001b[49m\n\u001b[1;32m     67\u001b[0m     x \u001b[38;5;241m=\u001b[39m \u001b[38;5;28mself\u001b[39m\u001b[38;5;241m.\u001b[39mavgpool(x)\n\u001b[1;32m     68\u001b[0m     x \u001b[38;5;241m=\u001b[39m torch\u001b[38;5;241m.\u001b[39mflatten(x, \u001b[38;5;241m1\u001b[39m)\n",
      "File \u001b[0;32m/usr/lib/python3.10/torch/nn/modules/module.py:1553\u001b[0m, in \u001b[0;36mModule._wrapped_call_impl\u001b[0;34m(self, *args, **kwargs)\u001b[0m\n\u001b[1;32m   1551\u001b[0m     \u001b[38;5;28;01mreturn\u001b[39;00m \u001b[38;5;28mself\u001b[39m\u001b[38;5;241m.\u001b[39m_compiled_call_impl(\u001b[38;5;241m*\u001b[39margs, \u001b[38;5;241m*\u001b[39m\u001b[38;5;241m*\u001b[39mkwargs)  \u001b[38;5;66;03m# type: ignore[misc]\u001b[39;00m\n\u001b[1;32m   1552\u001b[0m \u001b[38;5;28;01melse\u001b[39;00m:\n\u001b[0;32m-> 1553\u001b[0m     \u001b[38;5;28;01mreturn\u001b[39;00m \u001b[38;5;28;43mself\u001b[39;49m\u001b[38;5;241;43m.\u001b[39;49m\u001b[43m_call_impl\u001b[49m\u001b[43m(\u001b[49m\u001b[38;5;241;43m*\u001b[39;49m\u001b[43margs\u001b[49m\u001b[43m,\u001b[49m\u001b[43m \u001b[49m\u001b[38;5;241;43m*\u001b[39;49m\u001b[38;5;241;43m*\u001b[39;49m\u001b[43mkwargs\u001b[49m\u001b[43m)\u001b[49m\n",
      "File \u001b[0;32m/usr/lib/python3.10/torch/nn/modules/module.py:1562\u001b[0m, in \u001b[0;36mModule._call_impl\u001b[0;34m(self, *args, **kwargs)\u001b[0m\n\u001b[1;32m   1557\u001b[0m \u001b[38;5;66;03m# If we don't have any hooks, we want to skip the rest of the logic in\u001b[39;00m\n\u001b[1;32m   1558\u001b[0m \u001b[38;5;66;03m# this function, and just call forward.\u001b[39;00m\n\u001b[1;32m   1559\u001b[0m \u001b[38;5;28;01mif\u001b[39;00m \u001b[38;5;129;01mnot\u001b[39;00m (\u001b[38;5;28mself\u001b[39m\u001b[38;5;241m.\u001b[39m_backward_hooks \u001b[38;5;129;01mor\u001b[39;00m \u001b[38;5;28mself\u001b[39m\u001b[38;5;241m.\u001b[39m_backward_pre_hooks \u001b[38;5;129;01mor\u001b[39;00m \u001b[38;5;28mself\u001b[39m\u001b[38;5;241m.\u001b[39m_forward_hooks \u001b[38;5;129;01mor\u001b[39;00m \u001b[38;5;28mself\u001b[39m\u001b[38;5;241m.\u001b[39m_forward_pre_hooks\n\u001b[1;32m   1560\u001b[0m         \u001b[38;5;129;01mor\u001b[39;00m _global_backward_pre_hooks \u001b[38;5;129;01mor\u001b[39;00m _global_backward_hooks\n\u001b[1;32m   1561\u001b[0m         \u001b[38;5;129;01mor\u001b[39;00m _global_forward_hooks \u001b[38;5;129;01mor\u001b[39;00m _global_forward_pre_hooks):\n\u001b[0;32m-> 1562\u001b[0m     \u001b[38;5;28;01mreturn\u001b[39;00m \u001b[43mforward_call\u001b[49m\u001b[43m(\u001b[49m\u001b[38;5;241;43m*\u001b[39;49m\u001b[43margs\u001b[49m\u001b[43m,\u001b[49m\u001b[43m \u001b[49m\u001b[38;5;241;43m*\u001b[39;49m\u001b[38;5;241;43m*\u001b[39;49m\u001b[43mkwargs\u001b[49m\u001b[43m)\u001b[49m\n\u001b[1;32m   1564\u001b[0m \u001b[38;5;28;01mtry\u001b[39;00m:\n\u001b[1;32m   1565\u001b[0m     result \u001b[38;5;241m=\u001b[39m \u001b[38;5;28;01mNone\u001b[39;00m\n",
      "File \u001b[0;32m/usr/lib/python3.10/torch/nn/modules/container.py:219\u001b[0m, in \u001b[0;36mSequential.forward\u001b[0;34m(self, input)\u001b[0m\n\u001b[1;32m    217\u001b[0m \u001b[38;5;28;01mdef\u001b[39;00m\u001b[38;5;250m \u001b[39m\u001b[38;5;21mforward\u001b[39m(\u001b[38;5;28mself\u001b[39m, \u001b[38;5;28minput\u001b[39m):\n\u001b[1;32m    218\u001b[0m     \u001b[38;5;28;01mfor\u001b[39;00m module \u001b[38;5;129;01min\u001b[39;00m \u001b[38;5;28mself\u001b[39m:\n\u001b[0;32m--> 219\u001b[0m         \u001b[38;5;28minput\u001b[39m \u001b[38;5;241m=\u001b[39m \u001b[43mmodule\u001b[49m\u001b[43m(\u001b[49m\u001b[38;5;28;43minput\u001b[39;49m\u001b[43m)\u001b[49m\n\u001b[1;32m    220\u001b[0m     \u001b[38;5;28;01mreturn\u001b[39;00m \u001b[38;5;28minput\u001b[39m\n",
      "File \u001b[0;32m/usr/lib/python3.10/torch/nn/modules/module.py:1553\u001b[0m, in \u001b[0;36mModule._wrapped_call_impl\u001b[0;34m(self, *args, **kwargs)\u001b[0m\n\u001b[1;32m   1551\u001b[0m     \u001b[38;5;28;01mreturn\u001b[39;00m \u001b[38;5;28mself\u001b[39m\u001b[38;5;241m.\u001b[39m_compiled_call_impl(\u001b[38;5;241m*\u001b[39margs, \u001b[38;5;241m*\u001b[39m\u001b[38;5;241m*\u001b[39mkwargs)  \u001b[38;5;66;03m# type: ignore[misc]\u001b[39;00m\n\u001b[1;32m   1552\u001b[0m \u001b[38;5;28;01melse\u001b[39;00m:\n\u001b[0;32m-> 1553\u001b[0m     \u001b[38;5;28;01mreturn\u001b[39;00m \u001b[38;5;28;43mself\u001b[39;49m\u001b[38;5;241;43m.\u001b[39;49m\u001b[43m_call_impl\u001b[49m\u001b[43m(\u001b[49m\u001b[38;5;241;43m*\u001b[39;49m\u001b[43margs\u001b[49m\u001b[43m,\u001b[49m\u001b[43m \u001b[49m\u001b[38;5;241;43m*\u001b[39;49m\u001b[38;5;241;43m*\u001b[39;49m\u001b[43mkwargs\u001b[49m\u001b[43m)\u001b[49m\n",
      "File \u001b[0;32m/usr/lib/python3.10/torch/nn/modules/module.py:1562\u001b[0m, in \u001b[0;36mModule._call_impl\u001b[0;34m(self, *args, **kwargs)\u001b[0m\n\u001b[1;32m   1557\u001b[0m \u001b[38;5;66;03m# If we don't have any hooks, we want to skip the rest of the logic in\u001b[39;00m\n\u001b[1;32m   1558\u001b[0m \u001b[38;5;66;03m# this function, and just call forward.\u001b[39;00m\n\u001b[1;32m   1559\u001b[0m \u001b[38;5;28;01mif\u001b[39;00m \u001b[38;5;129;01mnot\u001b[39;00m (\u001b[38;5;28mself\u001b[39m\u001b[38;5;241m.\u001b[39m_backward_hooks \u001b[38;5;129;01mor\u001b[39;00m \u001b[38;5;28mself\u001b[39m\u001b[38;5;241m.\u001b[39m_backward_pre_hooks \u001b[38;5;129;01mor\u001b[39;00m \u001b[38;5;28mself\u001b[39m\u001b[38;5;241m.\u001b[39m_forward_hooks \u001b[38;5;129;01mor\u001b[39;00m \u001b[38;5;28mself\u001b[39m\u001b[38;5;241m.\u001b[39m_forward_pre_hooks\n\u001b[1;32m   1560\u001b[0m         \u001b[38;5;129;01mor\u001b[39;00m _global_backward_pre_hooks \u001b[38;5;129;01mor\u001b[39;00m _global_backward_hooks\n\u001b[1;32m   1561\u001b[0m         \u001b[38;5;129;01mor\u001b[39;00m _global_forward_hooks \u001b[38;5;129;01mor\u001b[39;00m _global_forward_pre_hooks):\n\u001b[0;32m-> 1562\u001b[0m     \u001b[38;5;28;01mreturn\u001b[39;00m \u001b[43mforward_call\u001b[49m\u001b[43m(\u001b[49m\u001b[38;5;241;43m*\u001b[39;49m\u001b[43margs\u001b[49m\u001b[43m,\u001b[49m\u001b[43m \u001b[49m\u001b[38;5;241;43m*\u001b[39;49m\u001b[38;5;241;43m*\u001b[39;49m\u001b[43mkwargs\u001b[49m\u001b[43m)\u001b[49m\n\u001b[1;32m   1564\u001b[0m \u001b[38;5;28;01mtry\u001b[39;00m:\n\u001b[1;32m   1565\u001b[0m     result \u001b[38;5;241m=\u001b[39m \u001b[38;5;28;01mNone\u001b[39;00m\n",
      "File \u001b[0;32m/usr/lib/python3.10/torch/nn/modules/conv.py:458\u001b[0m, in \u001b[0;36mConv2d.forward\u001b[0;34m(self, input)\u001b[0m\n\u001b[1;32m    457\u001b[0m \u001b[38;5;28;01mdef\u001b[39;00m\u001b[38;5;250m \u001b[39m\u001b[38;5;21mforward\u001b[39m(\u001b[38;5;28mself\u001b[39m, \u001b[38;5;28minput\u001b[39m: Tensor) \u001b[38;5;241m-\u001b[39m\u001b[38;5;241m>\u001b[39m Tensor:\n\u001b[0;32m--> 458\u001b[0m     \u001b[38;5;28;01mreturn\u001b[39;00m \u001b[38;5;28;43mself\u001b[39;49m\u001b[38;5;241;43m.\u001b[39;49m\u001b[43m_conv_forward\u001b[49m\u001b[43m(\u001b[49m\u001b[38;5;28;43minput\u001b[39;49m\u001b[43m,\u001b[49m\u001b[43m \u001b[49m\u001b[38;5;28;43mself\u001b[39;49m\u001b[38;5;241;43m.\u001b[39;49m\u001b[43mweight\u001b[49m\u001b[43m,\u001b[49m\u001b[43m \u001b[49m\u001b[38;5;28;43mself\u001b[39;49m\u001b[38;5;241;43m.\u001b[39;49m\u001b[43mbias\u001b[49m\u001b[43m)\u001b[49m\n",
      "File \u001b[0;32m/usr/lib/python3.10/torch/nn/modules/conv.py:454\u001b[0m, in \u001b[0;36mConv2d._conv_forward\u001b[0;34m(self, input, weight, bias)\u001b[0m\n\u001b[1;32m    450\u001b[0m \u001b[38;5;28;01mif\u001b[39;00m \u001b[38;5;28mself\u001b[39m\u001b[38;5;241m.\u001b[39mpadding_mode \u001b[38;5;241m!=\u001b[39m \u001b[38;5;124m'\u001b[39m\u001b[38;5;124mzeros\u001b[39m\u001b[38;5;124m'\u001b[39m:\n\u001b[1;32m    451\u001b[0m     \u001b[38;5;28;01mreturn\u001b[39;00m F\u001b[38;5;241m.\u001b[39mconv2d(F\u001b[38;5;241m.\u001b[39mpad(\u001b[38;5;28minput\u001b[39m, \u001b[38;5;28mself\u001b[39m\u001b[38;5;241m.\u001b[39m_reversed_padding_repeated_twice, mode\u001b[38;5;241m=\u001b[39m\u001b[38;5;28mself\u001b[39m\u001b[38;5;241m.\u001b[39mpadding_mode),\n\u001b[1;32m    452\u001b[0m                     weight, bias, \u001b[38;5;28mself\u001b[39m\u001b[38;5;241m.\u001b[39mstride,\n\u001b[1;32m    453\u001b[0m                     _pair(\u001b[38;5;241m0\u001b[39m), \u001b[38;5;28mself\u001b[39m\u001b[38;5;241m.\u001b[39mdilation, \u001b[38;5;28mself\u001b[39m\u001b[38;5;241m.\u001b[39mgroups)\n\u001b[0;32m--> 454\u001b[0m \u001b[38;5;28;01mreturn\u001b[39;00m \u001b[43mF\u001b[49m\u001b[38;5;241;43m.\u001b[39;49m\u001b[43mconv2d\u001b[49m\u001b[43m(\u001b[49m\u001b[38;5;28;43minput\u001b[39;49m\u001b[43m,\u001b[49m\u001b[43m \u001b[49m\u001b[43mweight\u001b[49m\u001b[43m,\u001b[49m\u001b[43m \u001b[49m\u001b[43mbias\u001b[49m\u001b[43m,\u001b[49m\u001b[43m \u001b[49m\u001b[38;5;28;43mself\u001b[39;49m\u001b[38;5;241;43m.\u001b[39;49m\u001b[43mstride\u001b[49m\u001b[43m,\u001b[49m\n\u001b[1;32m    455\u001b[0m \u001b[43m                \u001b[49m\u001b[38;5;28;43mself\u001b[39;49m\u001b[38;5;241;43m.\u001b[39;49m\u001b[43mpadding\u001b[49m\u001b[43m,\u001b[49m\u001b[43m \u001b[49m\u001b[38;5;28;43mself\u001b[39;49m\u001b[38;5;241;43m.\u001b[39;49m\u001b[43mdilation\u001b[49m\u001b[43m,\u001b[49m\u001b[43m \u001b[49m\u001b[38;5;28;43mself\u001b[39;49m\u001b[38;5;241;43m.\u001b[39;49m\u001b[43mgroups\u001b[49m\u001b[43m)\u001b[49m\n",
      "\u001b[0;31mRuntimeError\u001b[0m: Inference tensors cannot be saved for backward. To work around you can make a clone to get a normal tensor and use it in autograd."
     ]
    },
    {
     "ename": "",
     "evalue": "",
     "output_type": "error",
     "traceback": [
      "\u001b[1;31mThe Kernel crashed while executing code in the current cell or a previous cell. \n",
      "\u001b[1;31mPlease review the code in the cell(s) to identify a possible cause of the failure. \n",
      "\u001b[1;31mClick <a href='https://aka.ms/vscodeJupyterKernelCrash'>here</a> for more info. \n",
      "\u001b[1;31mView Jupyter <a href='command:jupyter.viewOutput'>log</a> for further details."
     ]
    }
   ],
   "source": [
    "num_finetune_epochs = 5\n",
    "optimizer = torch.optim.SGD(model.parameters(), lr=0.01, momentum=0.9, weight_decay=1e-4)\n",
    "scheduler = torch.optim.lr_scheduler.CosineAnnealingLR(optimizer, num_finetune_epochs)\n",
    "criterion = nn.CrossEntropyLoss()\n",
    "\n",
    "best_sparse_model_checkpoint = dict()\n",
    "best_accuracy = 0\n",
    "print(f'Finetuning Fine-grained Pruned Sparse Model')\n",
    "for epoch in range(num_finetune_epochs):\n",
    "    # At the end of each train iteration, we have to apply the pruning mask\n",
    "    #    to keep the model sparse during the training\n",
    "    train(model, dataloader['train'], criterion, optimizer, scheduler,\n",
    "          callbacks=[lambda: pruner.apply(model)])\n",
    "    accuracy = evaluate(model, dataloader['test'])\n",
    "    is_best = accuracy > best_accuracy\n",
    "    if is_best:\n",
    "        best_sparse_model_checkpoint['state_dict'] = copy.deepcopy(model.state_dict())\n",
    "        best_accuracy = accuracy\n",
    "    print(f'    Epoch {epoch+1} Accuracy {accuracy:.2f}% / Best Accuracy: {best_accuracy:.2f}%')"
   ]
  },
  {
   "cell_type": "code",
   "execution_count": 74,
   "metadata": {},
   "outputs": [
    {
     "name": "stderr",
     "output_type": "stream",
     "text": [
      "/usr/lib/python3.10/torchvision/models/_utils.py:135: UserWarning: Using 'weights' as positional parameter(s) is deprecated since 0.13 and may be removed in the future. Please use keyword parameter(s) instead.\n",
      "  warnings.warn(\n",
      "/usr/lib/python3.10/torchvision/models/_utils.py:223: UserWarning: Arguments other than a weight enum or `None` for 'weights' are deprecated since 0.13 and may be removed in the future. The current behavior is equivalent to passing `weights=VGG16_BN_Weights.IMAGENET1K_V1`. You can also use `weights=VGG16_BN_Weights.DEFAULT` to get the most up-to-date weights.\n",
      "  warnings.warn(msg)\n"
     ]
    },
    {
     "name": "stdout",
     "output_type": "stream",
     "text": [
      "Sparse model has size=527.82 MiB = 100.00% of dense model size\n"
     ]
    },
    {
     "name": "stderr",
     "output_type": "stream",
     "text": [
      "                                                       "
     ]
    },
    {
     "name": "stdout",
     "output_type": "stream",
     "text": [
      "Sparse model has accuracy=73.38% after fintuning\n"
     ]
    },
    {
     "name": "stderr",
     "output_type": "stream",
     "text": [
      "\r"
     ]
    }
   ],
   "source": [
    "# load the best sparse model checkpoint to evaluate the final performance}\n",
    "model = vgg16_bn(VGG16_BN_Weights)\n",
    "# model.load_state_dict()\n",
    "sparse_model_size = get_model_size(model, count_nonzero_only=True)\n",
    "print(f\"Sparse model has size={sparse_model_size / MiB:.2f} MiB = {sparse_model_size / dense_model_size * 100:.2f}% of dense model size\")\n",
    "sparse_model_accuracy = evaluate(model, dataloader['test'], device=DEVICE)\n",
    "print(f\"Sparse model has accuracy={sparse_model_accuracy:.2f}% after fintuning\")"
   ]
  },
  {
   "cell_type": "markdown",
   "metadata": {},
   "source": [
    "### Channel Prunning"
   ]
  },
  {
   "cell_type": "code",
   "execution_count": 74,
   "metadata": {},
   "outputs": [
    {
     "name": "stderr",
     "output_type": "stream",
     "text": [
      "                                                       "
     ]
    },
    {
     "name": "stdout",
     "output_type": "stream",
     "text": [
      "pruned model has accuracy=0.10%\n"
     ]
    },
    {
     "name": "stderr",
     "output_type": "stream",
     "text": [
      "\r"
     ]
    }
   ],
   "source": [
    "from pruning import ChannelPruner\n",
    "channel_pruner = ChannelPruner()\n",
    "\n",
    "dummy_input = torch.randn(1, 3, 32, 32).to(DEVICE)\n",
    "pruned_model = channel_pruner.prune(model, prune_ratio=0.3).to(DEVICE)\n",
    "pruned_macs = get_model_macs(pruned_model, dummy_input)\n",
    "# assert pruned_macs == 305388064\n",
    "# print('* Check passed. Right MACs for the pruned model.')\n",
    "\n",
    "pruned_model_accuracy = evaluate(pruned_model, dataloader['test'], device=DEVICE)\n",
    "print(f\"pruned model has accuracy={pruned_model_accuracy:.2f}%\")"
   ]
  },
  {
   "cell_type": "code",
   "execution_count": null,
   "metadata": {},
   "outputs": [],
   "source": [
    "pruned_model"
   ]
  },
  {
   "cell_type": "code",
   "execution_count": null,
   "metadata": {},
   "outputs": [],
   "source": [
    "print('Before sorting...')\n",
    "dense_model_accuracy = evaluate(model, dataloader['test'], device=DEVICE)\n",
    "print(f\"dense model has accuracy={dense_model_accuracy:.2f}%\")\n",
    "\n",
    "print('After sorting...')\n",
    "sorted_model = channel_pruner.apply_channel_sorting(model)\n",
    "sorted_model_accuracy = evaluate(sorted_model, dataloader['test'], device=DEVICE)\n",
    "print(f\"sorted model has accuracy={sorted_model_accuracy:.2f}%\")\n",
    "\n",
    "# make sure accuracy does not change after sorting, since it is\n",
    "# equivalent transform\n",
    "assert abs(sorted_model_accuracy - dense_model_accuracy) < 0.1\n",
    "print('* Check passed.')"
   ]
  },
  {
   "cell_type": "code",
   "execution_count": 40,
   "metadata": {},
   "outputs": [
    {
     "name": "stdout",
     "output_type": "stream",
     "text": [
      " * Without sorting...\n"
     ]
    },
    {
     "name": "stderr",
     "output_type": "stream",
     "text": [
      "                                                       \r"
     ]
    },
    {
     "name": "stdout",
     "output_type": "stream",
     "text": [
      "pruned model has accuracy=0.10%\n",
      " * With sorting...\n"
     ]
    },
    {
     "name": "stderr",
     "output_type": "stream",
     "text": [
      "                                                       "
     ]
    },
    {
     "name": "stdout",
     "output_type": "stream",
     "text": [
      "pruned model has accuracy=0.65%\n"
     ]
    },
    {
     "name": "stderr",
     "output_type": "stream",
     "text": [
      "\r"
     ]
    }
   ],
   "source": [
    "channel_pruning_ratio = 0.3  # pruned-out ratio\n",
    "\n",
    "print(\" * Without sorting...\")\n",
    "pruned_model = channel_pruner.prune(model, channel_pruning_ratio)\n",
    "pruned_model_accuracy = evaluate(pruned_model, dataloader['test'], device=DEVICE)\n",
    "print(f\"pruned model has accuracy={pruned_model_accuracy:.2f}%\")\n",
    "\n",
    "\n",
    "print(\" * With sorting...\")\n",
    "sorted_model = channel_pruner.apply_channel_sorting(model)\n",
    "pruned_model = channel_pruner.prune(sorted_model, channel_pruning_ratio)\n",
    "pruned_model_accuracy = evaluate(pruned_model, dataloader['test'], device=DEVICE)\n",
    "print(f\"pruned model has accuracy={pruned_model_accuracy:.2f}%\")\n"
   ]
  },
  {
   "cell_type": "code",
   "execution_count": 1,
   "metadata": {},
   "outputs": [
    {
     "ename": "NameError",
     "evalue": "name 'torch' is not defined",
     "output_type": "error",
     "traceback": [
      "\u001b[0;31m---------------------------------------------------------------------------\u001b[0m",
      "\u001b[0;31mNameError\u001b[0m                                 Traceback (most recent call last)",
      "Cell \u001b[0;32mIn[1], line 3\u001b[0m\n\u001b[1;32m      1\u001b[0m num_finetune_epochs \u001b[38;5;241m=\u001b[39m \u001b[38;5;241m5\u001b[39m\n\u001b[1;32m      2\u001b[0m channel_pruning_ratio \u001b[38;5;241m=\u001b[39m \u001b[38;5;241m0.3\u001b[39m\n\u001b[0;32m----> 3\u001b[0m optimizer \u001b[38;5;241m=\u001b[39m \u001b[43mtorch\u001b[49m\u001b[38;5;241m.\u001b[39moptim\u001b[38;5;241m.\u001b[39mSGD(pruned_model\u001b[38;5;241m.\u001b[39mparameters(), lr\u001b[38;5;241m=\u001b[39m\u001b[38;5;241m0.01\u001b[39m, momentum\u001b[38;5;241m=\u001b[39m\u001b[38;5;241m0.9\u001b[39m, weight_decay\u001b[38;5;241m=\u001b[39m\u001b[38;5;241m1e-4\u001b[39m)\n\u001b[1;32m      4\u001b[0m scheduler \u001b[38;5;241m=\u001b[39m torch\u001b[38;5;241m.\u001b[39moptim\u001b[38;5;241m.\u001b[39mlr_scheduler\u001b[38;5;241m.\u001b[39mCosineAnnealingLR(optimizer, num_finetune_epochs)\n\u001b[1;32m      5\u001b[0m criterion \u001b[38;5;241m=\u001b[39m nn\u001b[38;5;241m.\u001b[39mCrossEntropyLoss()\n",
      "\u001b[0;31mNameError\u001b[0m: name 'torch' is not defined"
     ]
    }
   ],
   "source": [
    "num_finetune_epochs = 5\n",
    "channel_pruning_ratio = 0.3\n",
    "optimizer = torch.optim.SGD(pruned_model.parameters(), lr=0.01, momentum=0.9, weight_decay=1e-4)\n",
    "scheduler = torch.optim.lr_scheduler.CosineAnnealingLR(optimizer, num_finetune_epochs)\n",
    "criterion = nn.CrossEntropyLoss()\n",
    "channel_pruned_model_state_dict = finetune(model,\n",
    "                                           dataloader,\n",
    "                                           criterion,\n",
    "                                           optimizer,\n",
    "                                           scheduler,\n",
    "                                           pruner_method='channel',\n",
    "                                           prune_ratio=channel_pruning_ratio,\n",
    "                                           num_finetune_epochs=num_finetune_epochs,\n",
    "                                           device=DEVICE)"
   ]
  },
  {
   "cell_type": "code",
   "execution_count": 83,
   "metadata": {},
   "outputs": [
    {
     "name": "stdout",
     "output_type": "stream",
     "text": [
      "                Original        Pruned          Reduction Ratio\n"
     ]
    },
    {
     "ename": "RuntimeError",
     "evalue": "Given weight of size [45, 3, 3, 3], expected bias to be 1-dimensional with 45 elements, but got bias of size [64] instead",
     "output_type": "error",
     "traceback": [
      "\u001b[0;31m---------------------------------------------------------------------------\u001b[0m",
      "\u001b[0;31mRuntimeError\u001b[0m                              Traceback (most recent call last)",
      "Cell \u001b[0;32mIn[83], line 10\u001b[0m\n\u001b[1;32m      7\u001b[0m pruned_model \u001b[38;5;241m=\u001b[39m pruned_model\u001b[38;5;241m.\u001b[39mto(\u001b[38;5;124m'\u001b[39m\u001b[38;5;124mcpu\u001b[39m\u001b[38;5;124m'\u001b[39m)\n\u001b[1;32m      8\u001b[0m model \u001b[38;5;241m=\u001b[39m model\u001b[38;5;241m.\u001b[39mto(\u001b[38;5;124m'\u001b[39m\u001b[38;5;124mcpu\u001b[39m\u001b[38;5;124m'\u001b[39m)\n\u001b[0;32m---> 10\u001b[0m pruned_latency \u001b[38;5;241m=\u001b[39m \u001b[43mmeasure_latency\u001b[49m\u001b[43m(\u001b[49m\u001b[43mpruned_model\u001b[49m\u001b[43m,\u001b[49m\u001b[43m \u001b[49m\u001b[43mdummy_input\u001b[49m\u001b[43m)\u001b[49m\n\u001b[1;32m     11\u001b[0m original_latency \u001b[38;5;241m=\u001b[39m measure_latency(model, dummy_input)\n\u001b[1;32m     12\u001b[0m \u001b[38;5;28mprint\u001b[39m(table_template\u001b[38;5;241m.\u001b[39mformat(\u001b[38;5;124m'\u001b[39m\u001b[38;5;124mLatency (ms)\u001b[39m\u001b[38;5;124m'\u001b[39m,\n\u001b[1;32m     13\u001b[0m                             \u001b[38;5;28mround\u001b[39m(original_latency \u001b[38;5;241m*\u001b[39m \u001b[38;5;241m1000\u001b[39m, \u001b[38;5;241m1\u001b[39m),\n\u001b[1;32m     14\u001b[0m                             \u001b[38;5;28mround\u001b[39m(pruned_latency \u001b[38;5;241m*\u001b[39m \u001b[38;5;241m1000\u001b[39m, \u001b[38;5;241m1\u001b[39m),\n\u001b[1;32m     15\u001b[0m                             \u001b[38;5;28mround\u001b[39m(original_latency \u001b[38;5;241m/\u001b[39m pruned_latency, \u001b[38;5;241m1\u001b[39m)))\n",
      "File \u001b[0;32m/usr/lib/python3.10/torch/utils/_contextlib.py:116\u001b[0m, in \u001b[0;36mcontext_decorator.<locals>.decorate_context\u001b[0;34m(*args, **kwargs)\u001b[0m\n\u001b[1;32m    113\u001b[0m \u001b[38;5;129m@functools\u001b[39m\u001b[38;5;241m.\u001b[39mwraps(func)\n\u001b[1;32m    114\u001b[0m \u001b[38;5;28;01mdef\u001b[39;00m\u001b[38;5;250m \u001b[39m\u001b[38;5;21mdecorate_context\u001b[39m(\u001b[38;5;241m*\u001b[39margs, \u001b[38;5;241m*\u001b[39m\u001b[38;5;241m*\u001b[39mkwargs):\n\u001b[1;32m    115\u001b[0m     \u001b[38;5;28;01mwith\u001b[39;00m ctx_factory():\n\u001b[0;32m--> 116\u001b[0m         \u001b[38;5;28;01mreturn\u001b[39;00m \u001b[43mfunc\u001b[49m\u001b[43m(\u001b[49m\u001b[38;5;241;43m*\u001b[39;49m\u001b[43margs\u001b[49m\u001b[43m,\u001b[49m\u001b[43m \u001b[49m\u001b[38;5;241;43m*\u001b[39;49m\u001b[38;5;241;43m*\u001b[39;49m\u001b[43mkwargs\u001b[49m\u001b[43m)\u001b[49m\n",
      "File \u001b[0;32m~/Desktop/Learning-Both-Weights-and-Connections-for-Efficient-NNs/utils.py:56\u001b[0m, in \u001b[0;36mmeasure_latency\u001b[0;34m(model, inp, n_warmup, n_test)\u001b[0m\n\u001b[1;32m     54\u001b[0m \u001b[38;5;66;03m# warmup\u001b[39;00m\n\u001b[1;32m     55\u001b[0m \u001b[38;5;28;01mfor\u001b[39;00m _ \u001b[38;5;129;01min\u001b[39;00m \u001b[38;5;28mrange\u001b[39m(n_warmup):\n\u001b[0;32m---> 56\u001b[0m     _ \u001b[38;5;241m=\u001b[39m \u001b[43mmodel\u001b[49m\u001b[43m(\u001b[49m\u001b[43minp\u001b[49m\u001b[43m)\u001b[49m\n\u001b[1;32m     57\u001b[0m t1 \u001b[38;5;241m=\u001b[39m time\u001b[38;5;241m.\u001b[39mtime()\n\u001b[1;32m     58\u001b[0m \u001b[38;5;28;01mfor\u001b[39;00m _ \u001b[38;5;129;01min\u001b[39;00m \u001b[38;5;28mrange\u001b[39m(n_test):\n",
      "File \u001b[0;32m/usr/lib/python3.10/torch/nn/modules/module.py:1553\u001b[0m, in \u001b[0;36mModule._wrapped_call_impl\u001b[0;34m(self, *args, **kwargs)\u001b[0m\n\u001b[1;32m   1551\u001b[0m     \u001b[38;5;28;01mreturn\u001b[39;00m \u001b[38;5;28mself\u001b[39m\u001b[38;5;241m.\u001b[39m_compiled_call_impl(\u001b[38;5;241m*\u001b[39margs, \u001b[38;5;241m*\u001b[39m\u001b[38;5;241m*\u001b[39mkwargs)  \u001b[38;5;66;03m# type: ignore[misc]\u001b[39;00m\n\u001b[1;32m   1552\u001b[0m \u001b[38;5;28;01melse\u001b[39;00m:\n\u001b[0;32m-> 1553\u001b[0m     \u001b[38;5;28;01mreturn\u001b[39;00m \u001b[38;5;28;43mself\u001b[39;49m\u001b[38;5;241;43m.\u001b[39;49m\u001b[43m_call_impl\u001b[49m\u001b[43m(\u001b[49m\u001b[38;5;241;43m*\u001b[39;49m\u001b[43margs\u001b[49m\u001b[43m,\u001b[49m\u001b[43m \u001b[49m\u001b[38;5;241;43m*\u001b[39;49m\u001b[38;5;241;43m*\u001b[39;49m\u001b[43mkwargs\u001b[49m\u001b[43m)\u001b[49m\n",
      "File \u001b[0;32m/usr/lib/python3.10/torch/nn/modules/module.py:1562\u001b[0m, in \u001b[0;36mModule._call_impl\u001b[0;34m(self, *args, **kwargs)\u001b[0m\n\u001b[1;32m   1557\u001b[0m \u001b[38;5;66;03m# If we don't have any hooks, we want to skip the rest of the logic in\u001b[39;00m\n\u001b[1;32m   1558\u001b[0m \u001b[38;5;66;03m# this function, and just call forward.\u001b[39;00m\n\u001b[1;32m   1559\u001b[0m \u001b[38;5;28;01mif\u001b[39;00m \u001b[38;5;129;01mnot\u001b[39;00m (\u001b[38;5;28mself\u001b[39m\u001b[38;5;241m.\u001b[39m_backward_hooks \u001b[38;5;129;01mor\u001b[39;00m \u001b[38;5;28mself\u001b[39m\u001b[38;5;241m.\u001b[39m_backward_pre_hooks \u001b[38;5;129;01mor\u001b[39;00m \u001b[38;5;28mself\u001b[39m\u001b[38;5;241m.\u001b[39m_forward_hooks \u001b[38;5;129;01mor\u001b[39;00m \u001b[38;5;28mself\u001b[39m\u001b[38;5;241m.\u001b[39m_forward_pre_hooks\n\u001b[1;32m   1560\u001b[0m         \u001b[38;5;129;01mor\u001b[39;00m _global_backward_pre_hooks \u001b[38;5;129;01mor\u001b[39;00m _global_backward_hooks\n\u001b[1;32m   1561\u001b[0m         \u001b[38;5;129;01mor\u001b[39;00m _global_forward_hooks \u001b[38;5;129;01mor\u001b[39;00m _global_forward_pre_hooks):\n\u001b[0;32m-> 1562\u001b[0m     \u001b[38;5;28;01mreturn\u001b[39;00m \u001b[43mforward_call\u001b[49m\u001b[43m(\u001b[49m\u001b[38;5;241;43m*\u001b[39;49m\u001b[43margs\u001b[49m\u001b[43m,\u001b[49m\u001b[43m \u001b[49m\u001b[38;5;241;43m*\u001b[39;49m\u001b[38;5;241;43m*\u001b[39;49m\u001b[43mkwargs\u001b[49m\u001b[43m)\u001b[49m\n\u001b[1;32m   1564\u001b[0m \u001b[38;5;28;01mtry\u001b[39;00m:\n\u001b[1;32m   1565\u001b[0m     result \u001b[38;5;241m=\u001b[39m \u001b[38;5;28;01mNone\u001b[39;00m\n",
      "File \u001b[0;32m/usr/lib/python3.10/torchvision/models/vgg.py:66\u001b[0m, in \u001b[0;36mVGG.forward\u001b[0;34m(self, x)\u001b[0m\n\u001b[1;32m     65\u001b[0m \u001b[38;5;28;01mdef\u001b[39;00m\u001b[38;5;250m \u001b[39m\u001b[38;5;21mforward\u001b[39m(\u001b[38;5;28mself\u001b[39m, x: torch\u001b[38;5;241m.\u001b[39mTensor) \u001b[38;5;241m-\u001b[39m\u001b[38;5;241m>\u001b[39m torch\u001b[38;5;241m.\u001b[39mTensor:\n\u001b[0;32m---> 66\u001b[0m     x \u001b[38;5;241m=\u001b[39m \u001b[38;5;28;43mself\u001b[39;49m\u001b[38;5;241;43m.\u001b[39;49m\u001b[43mfeatures\u001b[49m\u001b[43m(\u001b[49m\u001b[43mx\u001b[49m\u001b[43m)\u001b[49m\n\u001b[1;32m     67\u001b[0m     x \u001b[38;5;241m=\u001b[39m \u001b[38;5;28mself\u001b[39m\u001b[38;5;241m.\u001b[39mavgpool(x)\n\u001b[1;32m     68\u001b[0m     x \u001b[38;5;241m=\u001b[39m torch\u001b[38;5;241m.\u001b[39mflatten(x, \u001b[38;5;241m1\u001b[39m)\n",
      "File \u001b[0;32m/usr/lib/python3.10/torch/nn/modules/module.py:1553\u001b[0m, in \u001b[0;36mModule._wrapped_call_impl\u001b[0;34m(self, *args, **kwargs)\u001b[0m\n\u001b[1;32m   1551\u001b[0m     \u001b[38;5;28;01mreturn\u001b[39;00m \u001b[38;5;28mself\u001b[39m\u001b[38;5;241m.\u001b[39m_compiled_call_impl(\u001b[38;5;241m*\u001b[39margs, \u001b[38;5;241m*\u001b[39m\u001b[38;5;241m*\u001b[39mkwargs)  \u001b[38;5;66;03m# type: ignore[misc]\u001b[39;00m\n\u001b[1;32m   1552\u001b[0m \u001b[38;5;28;01melse\u001b[39;00m:\n\u001b[0;32m-> 1553\u001b[0m     \u001b[38;5;28;01mreturn\u001b[39;00m \u001b[38;5;28;43mself\u001b[39;49m\u001b[38;5;241;43m.\u001b[39;49m\u001b[43m_call_impl\u001b[49m\u001b[43m(\u001b[49m\u001b[38;5;241;43m*\u001b[39;49m\u001b[43margs\u001b[49m\u001b[43m,\u001b[49m\u001b[43m \u001b[49m\u001b[38;5;241;43m*\u001b[39;49m\u001b[38;5;241;43m*\u001b[39;49m\u001b[43mkwargs\u001b[49m\u001b[43m)\u001b[49m\n",
      "File \u001b[0;32m/usr/lib/python3.10/torch/nn/modules/module.py:1562\u001b[0m, in \u001b[0;36mModule._call_impl\u001b[0;34m(self, *args, **kwargs)\u001b[0m\n\u001b[1;32m   1557\u001b[0m \u001b[38;5;66;03m# If we don't have any hooks, we want to skip the rest of the logic in\u001b[39;00m\n\u001b[1;32m   1558\u001b[0m \u001b[38;5;66;03m# this function, and just call forward.\u001b[39;00m\n\u001b[1;32m   1559\u001b[0m \u001b[38;5;28;01mif\u001b[39;00m \u001b[38;5;129;01mnot\u001b[39;00m (\u001b[38;5;28mself\u001b[39m\u001b[38;5;241m.\u001b[39m_backward_hooks \u001b[38;5;129;01mor\u001b[39;00m \u001b[38;5;28mself\u001b[39m\u001b[38;5;241m.\u001b[39m_backward_pre_hooks \u001b[38;5;129;01mor\u001b[39;00m \u001b[38;5;28mself\u001b[39m\u001b[38;5;241m.\u001b[39m_forward_hooks \u001b[38;5;129;01mor\u001b[39;00m \u001b[38;5;28mself\u001b[39m\u001b[38;5;241m.\u001b[39m_forward_pre_hooks\n\u001b[1;32m   1560\u001b[0m         \u001b[38;5;129;01mor\u001b[39;00m _global_backward_pre_hooks \u001b[38;5;129;01mor\u001b[39;00m _global_backward_hooks\n\u001b[1;32m   1561\u001b[0m         \u001b[38;5;129;01mor\u001b[39;00m _global_forward_hooks \u001b[38;5;129;01mor\u001b[39;00m _global_forward_pre_hooks):\n\u001b[0;32m-> 1562\u001b[0m     \u001b[38;5;28;01mreturn\u001b[39;00m \u001b[43mforward_call\u001b[49m\u001b[43m(\u001b[49m\u001b[38;5;241;43m*\u001b[39;49m\u001b[43margs\u001b[49m\u001b[43m,\u001b[49m\u001b[43m \u001b[49m\u001b[38;5;241;43m*\u001b[39;49m\u001b[38;5;241;43m*\u001b[39;49m\u001b[43mkwargs\u001b[49m\u001b[43m)\u001b[49m\n\u001b[1;32m   1564\u001b[0m \u001b[38;5;28;01mtry\u001b[39;00m:\n\u001b[1;32m   1565\u001b[0m     result \u001b[38;5;241m=\u001b[39m \u001b[38;5;28;01mNone\u001b[39;00m\n",
      "File \u001b[0;32m/usr/lib/python3.10/torch/nn/modules/container.py:219\u001b[0m, in \u001b[0;36mSequential.forward\u001b[0;34m(self, input)\u001b[0m\n\u001b[1;32m    217\u001b[0m \u001b[38;5;28;01mdef\u001b[39;00m\u001b[38;5;250m \u001b[39m\u001b[38;5;21mforward\u001b[39m(\u001b[38;5;28mself\u001b[39m, \u001b[38;5;28minput\u001b[39m):\n\u001b[1;32m    218\u001b[0m     \u001b[38;5;28;01mfor\u001b[39;00m module \u001b[38;5;129;01min\u001b[39;00m \u001b[38;5;28mself\u001b[39m:\n\u001b[0;32m--> 219\u001b[0m         \u001b[38;5;28minput\u001b[39m \u001b[38;5;241m=\u001b[39m \u001b[43mmodule\u001b[49m\u001b[43m(\u001b[49m\u001b[38;5;28;43minput\u001b[39;49m\u001b[43m)\u001b[49m\n\u001b[1;32m    220\u001b[0m     \u001b[38;5;28;01mreturn\u001b[39;00m \u001b[38;5;28minput\u001b[39m\n",
      "File \u001b[0;32m/usr/lib/python3.10/torch/nn/modules/module.py:1553\u001b[0m, in \u001b[0;36mModule._wrapped_call_impl\u001b[0;34m(self, *args, **kwargs)\u001b[0m\n\u001b[1;32m   1551\u001b[0m     \u001b[38;5;28;01mreturn\u001b[39;00m \u001b[38;5;28mself\u001b[39m\u001b[38;5;241m.\u001b[39m_compiled_call_impl(\u001b[38;5;241m*\u001b[39margs, \u001b[38;5;241m*\u001b[39m\u001b[38;5;241m*\u001b[39mkwargs)  \u001b[38;5;66;03m# type: ignore[misc]\u001b[39;00m\n\u001b[1;32m   1552\u001b[0m \u001b[38;5;28;01melse\u001b[39;00m:\n\u001b[0;32m-> 1553\u001b[0m     \u001b[38;5;28;01mreturn\u001b[39;00m \u001b[38;5;28;43mself\u001b[39;49m\u001b[38;5;241;43m.\u001b[39;49m\u001b[43m_call_impl\u001b[49m\u001b[43m(\u001b[49m\u001b[38;5;241;43m*\u001b[39;49m\u001b[43margs\u001b[49m\u001b[43m,\u001b[49m\u001b[43m \u001b[49m\u001b[38;5;241;43m*\u001b[39;49m\u001b[38;5;241;43m*\u001b[39;49m\u001b[43mkwargs\u001b[49m\u001b[43m)\u001b[49m\n",
      "File \u001b[0;32m/usr/lib/python3.10/torch/nn/modules/module.py:1562\u001b[0m, in \u001b[0;36mModule._call_impl\u001b[0;34m(self, *args, **kwargs)\u001b[0m\n\u001b[1;32m   1557\u001b[0m \u001b[38;5;66;03m# If we don't have any hooks, we want to skip the rest of the logic in\u001b[39;00m\n\u001b[1;32m   1558\u001b[0m \u001b[38;5;66;03m# this function, and just call forward.\u001b[39;00m\n\u001b[1;32m   1559\u001b[0m \u001b[38;5;28;01mif\u001b[39;00m \u001b[38;5;129;01mnot\u001b[39;00m (\u001b[38;5;28mself\u001b[39m\u001b[38;5;241m.\u001b[39m_backward_hooks \u001b[38;5;129;01mor\u001b[39;00m \u001b[38;5;28mself\u001b[39m\u001b[38;5;241m.\u001b[39m_backward_pre_hooks \u001b[38;5;129;01mor\u001b[39;00m \u001b[38;5;28mself\u001b[39m\u001b[38;5;241m.\u001b[39m_forward_hooks \u001b[38;5;129;01mor\u001b[39;00m \u001b[38;5;28mself\u001b[39m\u001b[38;5;241m.\u001b[39m_forward_pre_hooks\n\u001b[1;32m   1560\u001b[0m         \u001b[38;5;129;01mor\u001b[39;00m _global_backward_pre_hooks \u001b[38;5;129;01mor\u001b[39;00m _global_backward_hooks\n\u001b[1;32m   1561\u001b[0m         \u001b[38;5;129;01mor\u001b[39;00m _global_forward_hooks \u001b[38;5;129;01mor\u001b[39;00m _global_forward_pre_hooks):\n\u001b[0;32m-> 1562\u001b[0m     \u001b[38;5;28;01mreturn\u001b[39;00m \u001b[43mforward_call\u001b[49m\u001b[43m(\u001b[49m\u001b[38;5;241;43m*\u001b[39;49m\u001b[43margs\u001b[49m\u001b[43m,\u001b[49m\u001b[43m \u001b[49m\u001b[38;5;241;43m*\u001b[39;49m\u001b[38;5;241;43m*\u001b[39;49m\u001b[43mkwargs\u001b[49m\u001b[43m)\u001b[49m\n\u001b[1;32m   1564\u001b[0m \u001b[38;5;28;01mtry\u001b[39;00m:\n\u001b[1;32m   1565\u001b[0m     result \u001b[38;5;241m=\u001b[39m \u001b[38;5;28;01mNone\u001b[39;00m\n",
      "File \u001b[0;32m/usr/lib/python3.10/torch/nn/modules/conv.py:458\u001b[0m, in \u001b[0;36mConv2d.forward\u001b[0;34m(self, input)\u001b[0m\n\u001b[1;32m    457\u001b[0m \u001b[38;5;28;01mdef\u001b[39;00m\u001b[38;5;250m \u001b[39m\u001b[38;5;21mforward\u001b[39m(\u001b[38;5;28mself\u001b[39m, \u001b[38;5;28minput\u001b[39m: Tensor) \u001b[38;5;241m-\u001b[39m\u001b[38;5;241m>\u001b[39m Tensor:\n\u001b[0;32m--> 458\u001b[0m     \u001b[38;5;28;01mreturn\u001b[39;00m \u001b[38;5;28;43mself\u001b[39;49m\u001b[38;5;241;43m.\u001b[39;49m\u001b[43m_conv_forward\u001b[49m\u001b[43m(\u001b[49m\u001b[38;5;28;43minput\u001b[39;49m\u001b[43m,\u001b[49m\u001b[43m \u001b[49m\u001b[38;5;28;43mself\u001b[39;49m\u001b[38;5;241;43m.\u001b[39;49m\u001b[43mweight\u001b[49m\u001b[43m,\u001b[49m\u001b[43m \u001b[49m\u001b[38;5;28;43mself\u001b[39;49m\u001b[38;5;241;43m.\u001b[39;49m\u001b[43mbias\u001b[49m\u001b[43m)\u001b[49m\n",
      "File \u001b[0;32m/usr/lib/python3.10/torch/nn/modules/conv.py:454\u001b[0m, in \u001b[0;36mConv2d._conv_forward\u001b[0;34m(self, input, weight, bias)\u001b[0m\n\u001b[1;32m    450\u001b[0m \u001b[38;5;28;01mif\u001b[39;00m \u001b[38;5;28mself\u001b[39m\u001b[38;5;241m.\u001b[39mpadding_mode \u001b[38;5;241m!=\u001b[39m \u001b[38;5;124m'\u001b[39m\u001b[38;5;124mzeros\u001b[39m\u001b[38;5;124m'\u001b[39m:\n\u001b[1;32m    451\u001b[0m     \u001b[38;5;28;01mreturn\u001b[39;00m F\u001b[38;5;241m.\u001b[39mconv2d(F\u001b[38;5;241m.\u001b[39mpad(\u001b[38;5;28minput\u001b[39m, \u001b[38;5;28mself\u001b[39m\u001b[38;5;241m.\u001b[39m_reversed_padding_repeated_twice, mode\u001b[38;5;241m=\u001b[39m\u001b[38;5;28mself\u001b[39m\u001b[38;5;241m.\u001b[39mpadding_mode),\n\u001b[1;32m    452\u001b[0m                     weight, bias, \u001b[38;5;28mself\u001b[39m\u001b[38;5;241m.\u001b[39mstride,\n\u001b[1;32m    453\u001b[0m                     _pair(\u001b[38;5;241m0\u001b[39m), \u001b[38;5;28mself\u001b[39m\u001b[38;5;241m.\u001b[39mdilation, \u001b[38;5;28mself\u001b[39m\u001b[38;5;241m.\u001b[39mgroups)\n\u001b[0;32m--> 454\u001b[0m \u001b[38;5;28;01mreturn\u001b[39;00m \u001b[43mF\u001b[49m\u001b[38;5;241;43m.\u001b[39;49m\u001b[43mconv2d\u001b[49m\u001b[43m(\u001b[49m\u001b[38;5;28;43minput\u001b[39;49m\u001b[43m,\u001b[49m\u001b[43m \u001b[49m\u001b[43mweight\u001b[49m\u001b[43m,\u001b[49m\u001b[43m \u001b[49m\u001b[43mbias\u001b[49m\u001b[43m,\u001b[49m\u001b[43m \u001b[49m\u001b[38;5;28;43mself\u001b[39;49m\u001b[38;5;241;43m.\u001b[39;49m\u001b[43mstride\u001b[49m\u001b[43m,\u001b[49m\n\u001b[1;32m    455\u001b[0m \u001b[43m                \u001b[49m\u001b[38;5;28;43mself\u001b[39;49m\u001b[38;5;241;43m.\u001b[39;49m\u001b[43mpadding\u001b[49m\u001b[43m,\u001b[49m\u001b[43m \u001b[49m\u001b[38;5;28;43mself\u001b[39;49m\u001b[38;5;241;43m.\u001b[39;49m\u001b[43mdilation\u001b[49m\u001b[43m,\u001b[49m\u001b[43m \u001b[49m\u001b[38;5;28;43mself\u001b[39;49m\u001b[38;5;241;43m.\u001b[39;49m\u001b[43mgroups\u001b[49m\u001b[43m)\u001b[49m\n",
      "\u001b[0;31mRuntimeError\u001b[0m: Given weight of size [45, 3, 3, 3], expected bias to be 1-dimensional with 45 elements, but got bias of size [64] instead"
     ]
    }
   ],
   "source": [
    "table_template = \"{:<15} {:<15} {:<15} {:<15}\"\n",
    "print (table_template.format('', 'Original','Pruned','Reduction Ratio'))\n",
    "\n",
    "# 1. measure the latency of the original model and the pruned model on CPU\n",
    "#   which simulates inference on an edge device\n",
    "dummy_input = torch.randn(1, 3, 32, 32).to('cpu')\n",
    "pruned_model = pruned_model.to('cpu')\n",
    "model = model.to('cpu')\n",
    "\n",
    "pruned_latency = measure_latency(pruned_model, dummy_input)\n",
    "original_latency = measure_latency(model, dummy_input)\n",
    "print(table_template.format('Latency (ms)',\n",
    "                            round(original_latency * 1000, 1),\n",
    "                            round(pruned_latency * 1000, 1),\n",
    "                            round(original_latency / pruned_latency, 1)))\n",
    "\n",
    "# 2. measure the computation (MACs)\n",
    "original_macs = get_model_macs(model, dummy_input)\n",
    "pruned_macs = get_model_macs(pruned_model, dummy_input)\n",
    "print(table_template.format('MACs (M)',\n",
    "                            round(original_macs / 1e6),\n",
    "                            round(pruned_macs / 1e6),\n",
    "                            round(original_macs / pruned_macs, 1)))\n",
    "\n",
    "# 3. measure the model size (params)\n",
    "original_param = get_num_parameters(model)\n",
    "pruned_param = get_num_parameters(pruned_model)\n",
    "print(table_template.format('Param (M)',\n",
    "                            round(original_param / 1e6, 2),\n",
    "                            round(pruned_param / 1e6, 2),\n",
    "                            round(original_param / pruned_param, 1)))"
   ]
  }
 ],
 "metadata": {
  "kernelspec": {
   "display_name": "Python 3",
   "language": "python",
   "name": "python3"
  },
  "language_info": {
   "codemirror_mode": {
    "name": "ipython",
    "version": 3
   },
   "file_extension": ".py",
   "mimetype": "text/x-python",
   "name": "python",
   "nbconvert_exporter": "python",
   "pygments_lexer": "ipython3",
   "version": "3.10.12"
  }
 },
 "nbformat": 4,
 "nbformat_minor": 2
}
